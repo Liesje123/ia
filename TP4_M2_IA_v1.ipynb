{
  "nbformat": 4,
  "nbformat_minor": 0,
  "metadata": {
    "colab": {
      "provenance": [],
      "authorship_tag": "ABX9TyNdTkbf0IZonkoK/ZIBRTvI",
      "include_colab_link": true
    },
    "kernelspec": {
      "name": "python3",
      "display_name": "Python 3"
    },
    "language_info": {
      "name": "python"
    }
  },
  "cells": [
    {
      "cell_type": "markdown",
      "metadata": {
        "id": "view-in-github",
        "colab_type": "text"
      },
      "source": [
        "<a href=\"https://colab.research.google.com/github/Liesje123/ia/blob/main/TP4_M2_IA_v1.ipynb\" target=\"_parent\"><img src=\"https://colab.research.google.com/assets/colab-badge.svg\" alt=\"Open In Colab\"/></a>"
      ]
    },
    {
      "cell_type": "markdown",
      "source": [
        "# TP N°4 - Réseaux de neurones\n",
        "\n",
        "## Tensorflow et Keras"
      ],
      "metadata": {
        "id": "ErYIHksmI_rE"
      }
    },
    {
      "cell_type": "markdown",
      "source": [
        "### Installation de _Tensorflow_"
      ],
      "metadata": {
        "id": "dRY3DB0xKjna"
      }
    },
    {
      "cell_type": "code",
      "execution_count": null,
      "metadata": {
        "id": "BJ-Db_wcI2Hx"
      },
      "outputs": [],
      "source": [
        "import tensorflow as tf\n",
        "import matplotlib.pyplot as plt\n",
        "import numpy as np"
      ]
    },
    {
      "cell_type": "code",
      "source": [
        "# vérification de la bonne importation de tensorflow :\n",
        "## est-ce qu'elle est bien installé ? = > oui, v : 2.15.0\n",
        "print(tf.__version__)\n",
        "## est-ce qu'elle fonctionne correctement ? => oui, tf.Tensor(-0.17419434, shape=(), dtype=float32)\n",
        "print(tf.reduce_sum(tf.random.normal([1000,  1000])))\n",
        "## est-ce qu'elle est capable d'utiliser le GPU? = > non, []\n",
        "print(tf.config.list_physical_devices('GPU'))"
      ],
      "metadata": {
        "colab": {
          "base_uri": "https://localhost:8080/"
        },
        "id": "ZLbmMH3WNszr",
        "outputId": "214fff99-1ec6-46ea-e06a-c9b9f15d1479"
      },
      "execution_count": null,
      "outputs": [
        {
          "output_type": "stream",
          "name": "stdout",
          "text": [
            "2.15.0\n",
            "tf.Tensor(-387.7232, shape=(), dtype=float32)\n",
            "[]\n"
          ]
        }
      ]
    },
    {
      "cell_type": "markdown",
      "source": [
        "### Chargement des données"
      ],
      "metadata": {
        "id": "XNKEYGz6Kqt6"
      }
    },
    {
      "cell_type": "code",
      "source": [
        "# Chargement du jeu de données MNIST\n",
        "(xTrain, yTrain), (xTest, yTest) = tf.keras.datasets.mnist.load_data()"
      ],
      "metadata": {
        "id": "p0uRghIIKs-9"
      },
      "execution_count": null,
      "outputs": []
    },
    {
      "cell_type": "code",
      "source": [
        "# print(yTrain[10])\n",
        "plt.imshow(xTrain[10], cmap='gray')\n",
        "plt.title(\"Digit: {}\".format(yTrain[10]))\n",
        "plt.show()"
      ],
      "metadata": {
        "colab": {
          "base_uri": "https://localhost:8080/",
          "height": 452
        },
        "id": "CscHRG9NOoUz",
        "outputId": "abb2600c-42b9-4ed5-cff3-bffeff2f3937"
      },
      "execution_count": null,
      "outputs": [
        {
          "output_type": "display_data",
          "data": {
            "text/plain": [
              "<Figure size 640x480 with 1 Axes>"
            ],
            "image/png": "[encoded data removed]"
          },
          "metadata": {}
        }
      ]
    },
    {
      "cell_type": "markdown",
      "source": [
        "### Normalisation des données"
      ],
      "metadata": {
        "id": "_6mOw5VzMfEC"
      }
    },
    {
      "cell_type": "code",
      "source": [
        "# Normalise le jeu de données\n",
        "print(xTrain.shape)\n",
        "print(xTest.shape)\n",
        "\n",
        "xTrain = xTrain.reshape(xTrain.shape[0], xTrain.shape[1]*xTrain.shape[2])\n",
        "xTest = xTest.reshape(xTest.shape[0], xTest.shape[1]*xTest.shape[2])\n",
        "\n",
        "xTrain = xTrain/255\n",
        "xTest = xTest/255\n",
        "\n",
        "print(xTrain.shape)\n"
      ],
      "metadata": {
        "id": "1fKe_VMzMgtH"
      },
      "execution_count": null,
      "outputs": []
    },
    {
      "cell_type": "markdown",
      "source": [
        "En entrée de la normalisation : 60000 données de tailles 28*28 et en sortie 60000 données de taille 784"
      ],
      "metadata": {
        "id": "iSyrZs3hQInC"
      }
    },
    {
      "cell_type": "code",
      "source": [
        "# # Normalise le jeu de données - label\n",
        "# print(yTrain.shape)\n",
        "# nbClasses = 10\n",
        "# yTrain = tf.keras.utils.to_categorical(yTrain, nbClasses)\n",
        "# yTest = tf.keras.utils.to_categorical(yTest, nbClasses)\n",
        "# print(yTrain.shape)"
      ],
      "metadata": {
        "id": "rTI-uQhhQQsC"
      },
      "execution_count": null,
      "outputs": []
    },
    {
      "cell_type": "code",
      "source": [
        "# Définition du réseau neuronal\n",
        "\n",
        "model = tf.keras.models.Sequential()\n",
        "model.add(tf.keras.layers.InputLayer(input_shape = (xTrain.shape[1],)))\n",
        "model.add(tf.keras.layers.Dense(50, activation='sigmoid'))\n",
        "model.add(tf.keras.layers.Dense(10, activation='sigmoid'))\n",
        "model.summary()\n",
        "tf.keras.utils.plot_model(model, show_shapes=True)"
      ],
      "metadata": {
        "colab": {
          "base_uri": "https://localhost:8080/",
          "height": 538
        },
        "id": "l0uaRY_6Q10z",
        "outputId": "94cc86d4-0010-4776-c7e0-b233b13071ba"
      },
      "execution_count": null,
      "outputs": [
        {
          "output_type": "stream",
          "name": "stdout",
          "text": [
            "Model: \"sequential\"\n",
            "_________________________________________________________________\n",
            " Layer (type)                Output Shape              Param #   \n",
            "=================================================================\n",
            " dense (Dense)               (None, 50)                39250     \n",
            "                                                                 \n",
            " dense_1 (Dense)             (None, 10)                510       \n",
            "                                                                 \n",
            "=================================================================\n",
            "Total params: 39760 (155.31 KB)\n",
            "Trainable params: 39760 (155.31 KB)\n",
            "Non-trainable params: 0 (0.00 Byte)\n",
            "_________________________________________________________________\n"
          ]
        },
        {
          "output_type": "execute_result",
          "data": {
            "image/png": "[encoded data removed]",
            "text/plain": [
              "<IPython.core.display.Image object>"
            ]
          },
          "metadata": {},
          "execution_count": 8
        }
      ]
    },
    {
      "cell_type": "code",
      "source": [
        "# Setup and learn model V1\n",
        "optimize = tf.keras.optimizers.experimental.SGD(learning_rate=0.1)\n",
        "model.compile(optimizer=optimize, loss='mse', metrics=['accuracy'])\n",
        "history = model.fit(xTrain, yTrain, batch_size=100, epochs=100)"
      ],
      "metadata": {
        "id": "0hSj0rChiA40",
        "colab": {
          "base_uri": "https://localhost:8080/"
        },
        "outputId": "fe21b274-a93e-4ce6-959c-cebca899115d"
      },
      "execution_count": null,
      "outputs": [
        {
          "output_type": "stream",
          "name": "stdout",
          "text": [
            "Epoch 1/100\n",
            "600/600 [==============================] - 7s 10ms/step - loss: 20.3324 - accuracy: 0.0713\n",
            "Epoch 2/100\n",
            "600/600 [==============================] - 7s 12ms/step - loss: 20.2806 - accuracy: 0.0629\n",
            "Epoch 3/100\n",
            "600/600 [==============================] - 6s 10ms/step - loss: 20.2791 - accuracy: 0.0614\n",
            "Epoch 4/100\n",
            "600/600 [==============================] - 6s 9ms/step - loss: 20.2787 - accuracy: 0.0607\n",
            "Epoch 5/100\n",
            "600/600 [==============================] - 5s 8ms/step - loss: 20.2784 - accuracy: 0.0602\n",
            "Epoch 6/100\n",
            "600/600 [==============================] - 4s 7ms/step - loss: 20.2782 - accuracy: 0.0605\n",
            "Epoch 7/100\n",
            "600/600 [==============================] - 2s 4ms/step - loss: 20.2780 - accuracy: 0.0602\n",
            "Epoch 8/100\n",
            "600/600 [==============================] - 2s 3ms/step - loss: 20.2779 - accuracy: 0.0601\n",
            "Epoch 9/100\n",
            "600/600 [==============================] - 2s 3ms/step - loss: 20.2779 - accuracy: 0.0602\n",
            "Epoch 10/100\n",
            "600/600 [==============================] - 2s 3ms/step - loss: 20.2779 - accuracy: 0.0602\n",
            "Epoch 11/100\n",
            "600/600 [==============================] - 2s 3ms/step - loss: 20.2778 - accuracy: 0.0603\n",
            "Epoch 12/100\n",
            "600/600 [==============================] - 2s 4ms/step - loss: 20.2778 - accuracy: 0.0604\n",
            "Epoch 13/100\n",
            "600/600 [==============================] - 2s 4ms/step - loss: 20.2777 - accuracy: 0.0602\n",
            "Epoch 14/100\n",
            "600/600 [==============================] - 2s 3ms/step - loss: 20.2776 - accuracy: 0.0602\n",
            "Epoch 15/100\n",
            "600/600 [==============================] - 2s 3ms/step - loss: 20.2776 - accuracy: 0.0601\n",
            "Epoch 16/100\n",
            "600/600 [==============================] - 2s 3ms/step - loss: 20.2775 - accuracy: 0.0600\n",
            "Epoch 17/100\n",
            "600/600 [==============================] - 2s 3ms/step - loss: 20.2775 - accuracy: 0.0600\n",
            "Epoch 18/100\n",
            "600/600 [==============================] - 2s 3ms/step - loss: 20.2775 - accuracy: 0.0597\n",
            "Epoch 19/100\n",
            "600/600 [==============================] - 3s 4ms/step - loss: 20.2775 - accuracy: 0.0596\n",
            "Epoch 20/100\n",
            "600/600 [==============================] - 2s 3ms/step - loss: 20.2775 - accuracy: 0.0597\n",
            "Epoch 21/100\n",
            "600/600 [==============================] - 2s 3ms/step - loss: 20.2775 - accuracy: 0.0595\n",
            "Epoch 22/100\n",
            "600/600 [==============================] - 2s 3ms/step - loss: 20.2775 - accuracy: 0.0596\n",
            "Epoch 23/100\n",
            "600/600 [==============================] - 2s 3ms/step - loss: 20.2775 - accuracy: 0.0594\n",
            "Epoch 24/100\n",
            "600/600 [==============================] - 2s 3ms/step - loss: 20.2775 - accuracy: 0.0593\n",
            "Epoch 25/100\n",
            "600/600 [==============================] - 3s 5ms/step - loss: 20.2775 - accuracy: 0.0592\n",
            "Epoch 26/100\n",
            "600/600 [==============================] - 2s 3ms/step - loss: 20.2775 - accuracy: 0.0591\n",
            "Epoch 27/100\n",
            "600/600 [==============================] - 2s 3ms/step - loss: 20.2775 - accuracy: 0.0593\n",
            "Epoch 28/100\n",
            "600/600 [==============================] - 2s 3ms/step - loss: 20.2774 - accuracy: 0.0591\n",
            "Epoch 29/100\n",
            "600/600 [==============================] - 2s 3ms/step - loss: 20.2774 - accuracy: 0.0589\n",
            "Epoch 30/100\n",
            "600/600 [==============================] - 2s 3ms/step - loss: 20.2774 - accuracy: 0.0593\n",
            "Epoch 31/100\n",
            "600/600 [==============================] - 3s 5ms/step - loss: 20.2774 - accuracy: 0.0590\n",
            "Epoch 32/100\n",
            "600/600 [==============================] - 2s 3ms/step - loss: 20.2774 - accuracy: 0.0588\n",
            "Epoch 33/100\n",
            "600/600 [==============================] - 2s 3ms/step - loss: 20.2774 - accuracy: 0.0587\n",
            "Epoch 34/100\n",
            "600/600 [==============================] - 2s 3ms/step - loss: 20.2774 - accuracy: 0.0588\n",
            "Epoch 35/100\n",
            "600/600 [==============================] - 2s 3ms/step - loss: 20.2774 - accuracy: 0.0587\n",
            "Epoch 36/100\n",
            "600/600 [==============================] - 2s 3ms/step - loss: 20.2774 - accuracy: 0.0589\n",
            "Epoch 37/100\n",
            "600/600 [==============================] - 2s 4ms/step - loss: 20.2774 - accuracy: 0.0586\n",
            "Epoch 38/100\n",
            "600/600 [==============================] - 2s 4ms/step - loss: 20.2774 - accuracy: 0.0588\n",
            "Epoch 39/100\n",
            "600/600 [==============================] - 2s 4ms/step - loss: 20.2774 - accuracy: 0.0586\n",
            "Epoch 40/100\n",
            "600/600 [==============================] - 2s 3ms/step - loss: 20.2774 - accuracy: 0.0587\n",
            "Epoch 41/100\n",
            "600/600 [==============================] - 2s 3ms/step - loss: 20.2774 - accuracy: 0.0585\n",
            "Epoch 42/100\n",
            "600/600 [==============================] - 2s 3ms/step - loss: 20.2774 - accuracy: 0.0586\n",
            "Epoch 43/100\n",
            "600/600 [==============================] - 2s 4ms/step - loss: 20.2774 - accuracy: 0.0585\n",
            "Epoch 44/100\n",
            "600/600 [==============================] - 2s 4ms/step - loss: 20.2774 - accuracy: 0.0588\n",
            "Epoch 45/100\n",
            "600/600 [==============================] - 2s 3ms/step - loss: 20.2774 - accuracy: 0.0587\n",
            "Epoch 46/100\n",
            "600/600 [==============================] - 2s 3ms/step - loss: 20.2774 - accuracy: 0.0584\n",
            "Epoch 47/100\n",
            "600/600 [==============================] - 2s 3ms/step - loss: 20.2774 - accuracy: 0.0583\n",
            "Epoch 48/100\n",
            "600/600 [==============================] - 2s 3ms/step - loss: 20.2774 - accuracy: 0.0584\n",
            "Epoch 49/100\n",
            "600/600 [==============================] - 2s 3ms/step - loss: 20.2774 - accuracy: 0.0585\n",
            "Epoch 50/100\n",
            "600/600 [==============================] - 3s 5ms/step - loss: 20.2774 - accuracy: 0.0586\n",
            "Epoch 51/100\n",
            "600/600 [==============================] - 2s 3ms/step - loss: 20.2774 - accuracy: 0.0583\n",
            "Epoch 52/100\n",
            "600/600 [==============================] - 2s 3ms/step - loss: 20.2774 - accuracy: 0.0582\n",
            "Epoch 53/100\n",
            "600/600 [==============================] - 2s 3ms/step - loss: 20.2774 - accuracy: 0.0585\n",
            "Epoch 54/100\n",
            "600/600 [==============================] - 2s 4ms/step - loss: 20.2774 - accuracy: 0.0584\n",
            "Epoch 55/100\n",
            "600/600 [==============================] - 2s 3ms/step - loss: 20.2774 - accuracy: 0.0578\n",
            "Epoch 56/100\n",
            "600/600 [==============================] - 3s 5ms/step - loss: 20.2774 - accuracy: 0.0577\n",
            "Epoch 57/100\n",
            "600/600 [==============================] - 2s 3ms/step - loss: 20.2774 - accuracy: 0.0582\n",
            "Epoch 58/100\n",
            "600/600 [==============================] - 2s 3ms/step - loss: 20.2774 - accuracy: 0.0580\n",
            "Epoch 59/100\n",
            "600/600 [==============================] - 2s 3ms/step - loss: 20.2774 - accuracy: 0.0576\n",
            "Epoch 60/100\n",
            "600/600 [==============================] - 2s 3ms/step - loss: 20.2774 - accuracy: 0.0579\n",
            "Epoch 61/100\n",
            "600/600 [==============================] - 2s 3ms/step - loss: 20.2774 - accuracy: 0.0578\n",
            "Epoch 62/100\n",
            "600/600 [==============================] - 3s 5ms/step - loss: 20.2774 - accuracy: 0.0577\n",
            "Epoch 63/100\n",
            "600/600 [==============================] - 2s 3ms/step - loss: 20.2774 - accuracy: 0.0573\n",
            "Epoch 64/100\n",
            "600/600 [==============================] - 2s 3ms/step - loss: 20.2774 - accuracy: 0.0579\n",
            "Epoch 65/100\n",
            "600/600 [==============================] - 2s 3ms/step - loss: 20.2774 - accuracy: 0.0577\n",
            "Epoch 66/100\n",
            "600/600 [==============================] - 2s 3ms/step - loss: 20.2774 - accuracy: 0.0574\n",
            "Epoch 67/100\n",
            "600/600 [==============================] - 2s 3ms/step - loss: 20.2774 - accuracy: 0.0575\n",
            "Epoch 68/100\n",
            "600/600 [==============================] - 4s 7ms/step - loss: 20.2774 - accuracy: 0.0576\n",
            "Epoch 69/100\n",
            "600/600 [==============================] - 2s 3ms/step - loss: 20.2774 - accuracy: 0.0574\n",
            "Epoch 70/100\n",
            "600/600 [==============================] - 2s 3ms/step - loss: 20.2774 - accuracy: 0.0575\n",
            "Epoch 71/100\n",
            "600/600 [==============================] - 2s 3ms/step - loss: 20.2774 - accuracy: 0.0575\n",
            "Epoch 72/100\n",
            "600/600 [==============================] - 2s 3ms/step - loss: 20.2774 - accuracy: 0.0574\n",
            "Epoch 73/100\n",
            "600/600 [==============================] - 2s 3ms/step - loss: 20.2774 - accuracy: 0.0575\n",
            "Epoch 74/100\n",
            "600/600 [==============================] - 4s 6ms/step - loss: 20.2774 - accuracy: 0.0573\n",
            "Epoch 75/100\n",
            "600/600 [==============================] - 2s 3ms/step - loss: 20.2774 - accuracy: 0.0571\n",
            "Epoch 76/100\n",
            "600/600 [==============================] - 2s 3ms/step - loss: 20.2774 - accuracy: 0.0572\n",
            "Epoch 77/100\n",
            "600/600 [==============================] - 2s 3ms/step - loss: 20.2774 - accuracy: 0.0571\n",
            "Epoch 78/100\n",
            "600/600 [==============================] - 2s 3ms/step - loss: 20.2774 - accuracy: 0.0570\n",
            "Epoch 79/100\n",
            "600/600 [==============================] - 2s 3ms/step - loss: 20.2774 - accuracy: 0.0571\n",
            "Epoch 80/100\n",
            "600/600 [==============================] - 3s 5ms/step - loss: 20.2774 - accuracy: 0.0571\n",
            "Epoch 81/100\n",
            "600/600 [==============================] - 2s 3ms/step - loss: 20.2774 - accuracy: 0.0571\n",
            "Epoch 82/100\n",
            "600/600 [==============================] - 2s 3ms/step - loss: 20.2774 - accuracy: 0.0567\n",
            "Epoch 83/100\n",
            "600/600 [==============================] - 2s 3ms/step - loss: 20.2774 - accuracy: 0.0572\n",
            "Epoch 84/100\n",
            "600/600 [==============================] - 2s 3ms/step - loss: 20.2774 - accuracy: 0.0564\n",
            "Epoch 85/100\n",
            "600/600 [==============================] - 2s 3ms/step - loss: 20.2774 - accuracy: 0.0566\n",
            "Epoch 86/100\n",
            "600/600 [==============================] - 2s 4ms/step - loss: 20.2774 - accuracy: 0.0558\n",
            "Epoch 87/100\n",
            "600/600 [==============================] - 2s 4ms/step - loss: 20.2774 - accuracy: 0.0565\n",
            "Epoch 88/100\n",
            "600/600 [==============================] - 2s 3ms/step - loss: 20.2774 - accuracy: 0.0566\n",
            "Epoch 89/100\n",
            "600/600 [==============================] - 2s 3ms/step - loss: 20.2774 - accuracy: 0.0562\n",
            "Epoch 90/100\n",
            "600/600 [==============================] - 2s 3ms/step - loss: 20.2774 - accuracy: 0.0557\n",
            "Epoch 91/100\n",
            "600/600 [==============================] - 2s 3ms/step - loss: 20.2774 - accuracy: 0.0562\n",
            "Epoch 92/100\n",
            "600/600 [==============================] - 2s 3ms/step - loss: 20.2774 - accuracy: 0.0557\n",
            "Epoch 93/100\n",
            "600/600 [==============================] - 3s 5ms/step - loss: 20.2774 - accuracy: 0.0557\n",
            "Epoch 94/100\n",
            "600/600 [==============================] - 2s 3ms/step - loss: 20.2774 - accuracy: 0.0559\n",
            "Epoch 95/100\n",
            "600/600 [==============================] - 2s 3ms/step - loss: 20.2774 - accuracy: 0.0561\n",
            "Epoch 96/100\n",
            "600/600 [==============================] - 2s 3ms/step - loss: 20.2774 - accuracy: 0.0563\n",
            "Epoch 97/100\n",
            "600/600 [==============================] - 2s 3ms/step - loss: 20.2774 - accuracy: 0.0555\n",
            "Epoch 98/100\n",
            "600/600 [==============================] - 2s 3ms/step - loss: 20.2774 - accuracy: 0.0560\n",
            "Epoch 99/100\n",
            "600/600 [==============================] - 3s 5ms/step - loss: 20.2774 - accuracy: 0.0562\n",
            "Epoch 100/100\n",
            "600/600 [==============================] - 2s 3ms/step - loss: 20.2774 - accuracy: 0.0557\n"
          ]
        }
      ]
    },
    {
      "cell_type": "code",
      "source": [
        "# Setup and learn model V2\n",
        "# doit mettre labels en commentaire\n",
        "optimize = tf.keras.optimizers.experimental.SGD(learning_rate=0.1)\n",
        "model.compile(optimizer=optimize, loss='sparse_categorical_crossentropy', metrics=['accuracy'])\n",
        "history = model.fit(xTrain, yTrain, batch_size=100, epochs=100)"
      ],
      "metadata": {
        "id": "_N1zHR1Kh8Bn",
        "colab": {
          "base_uri": "https://localhost:8080/"
        },
        "outputId": "b1ac2b37-de4f-4af7-a69e-c7aa97fce965"
      },
      "execution_count": null,
      "outputs": [
        {
          "output_type": "stream",
          "name": "stdout",
          "text": [
            "Epoch 1/100\n",
            "600/600 [==============================] - 2s 3ms/step - loss: 1.2088 - accuracy: 0.7044\n",
            "Epoch 2/100\n",
            "600/600 [==============================] - 2s 3ms/step - loss: 0.4648 - accuracy: 0.8836\n",
            "Epoch 3/100\n",
            "600/600 [==============================] - 2s 4ms/step - loss: 0.3620 - accuracy: 0.9022\n",
            "Epoch 4/100\n",
            "600/600 [==============================] - 2s 4ms/step - loss: 0.3202 - accuracy: 0.9105\n",
            "Epoch 5/100\n",
            "600/600 [==============================] - 2s 3ms/step - loss: 0.2949 - accuracy: 0.9167\n",
            "Epoch 6/100\n",
            "600/600 [==============================] - 2s 3ms/step - loss: 0.2765 - accuracy: 0.9221\n",
            "Epoch 7/100\n",
            "600/600 [==============================] - 2s 3ms/step - loss: 0.2620 - accuracy: 0.9259\n",
            "Epoch 8/100\n",
            "600/600 [==============================] - 2s 3ms/step - loss: 0.2494 - accuracy: 0.9294\n",
            "Epoch 9/100\n",
            "600/600 [==============================] - 2s 4ms/step - loss: 0.2385 - accuracy: 0.9317\n",
            "Epoch 10/100\n",
            "600/600 [==============================] - 2s 4ms/step - loss: 0.2288 - accuracy: 0.9345\n",
            "Epoch 11/100\n",
            "600/600 [==============================] - 2s 3ms/step - loss: 0.2201 - accuracy: 0.9369\n",
            "Epoch 12/100\n",
            "600/600 [==============================] - 2s 3ms/step - loss: 0.2119 - accuracy: 0.9395\n",
            "Epoch 13/100\n",
            "600/600 [==============================] - 2s 3ms/step - loss: 0.2046 - accuracy: 0.9417\n",
            "Epoch 14/100\n",
            "600/600 [==============================] - 2s 3ms/step - loss: 0.1978 - accuracy: 0.9439\n",
            "Epoch 15/100\n",
            "600/600 [==============================] - 2s 4ms/step - loss: 0.1915 - accuracy: 0.9454\n",
            "Epoch 16/100\n",
            "600/600 [==============================] - 3s 4ms/step - loss: 0.1856 - accuracy: 0.9473\n",
            "Epoch 17/100\n",
            "600/600 [==============================] - 2s 3ms/step - loss: 0.1802 - accuracy: 0.9488\n",
            "Epoch 18/100\n",
            "600/600 [==============================] - 2s 3ms/step - loss: 0.1751 - accuracy: 0.9502\n",
            "Epoch 19/100\n",
            "600/600 [==============================] - 2s 3ms/step - loss: 0.1703 - accuracy: 0.9514\n",
            "Epoch 20/100\n",
            "600/600 [==============================] - 2s 3ms/step - loss: 0.1658 - accuracy: 0.9529\n",
            "Epoch 21/100\n",
            "600/600 [==============================] - 2s 3ms/step - loss: 0.1617 - accuracy: 0.9542\n",
            "Epoch 22/100\n",
            "600/600 [==============================] - 3s 5ms/step - loss: 0.1578 - accuracy: 0.9553\n",
            "Epoch 23/100\n",
            "600/600 [==============================] - 2s 3ms/step - loss: 0.1539 - accuracy: 0.9565\n",
            "Epoch 24/100\n",
            "600/600 [==============================] - 2s 3ms/step - loss: 0.1504 - accuracy: 0.9574\n",
            "Epoch 25/100\n",
            "600/600 [==============================] - 2s 3ms/step - loss: 0.1470 - accuracy: 0.9585\n",
            "Epoch 26/100\n",
            "600/600 [==============================] - 2s 3ms/step - loss: 0.1439 - accuracy: 0.9589\n",
            "Epoch 27/100\n",
            "600/600 [==============================] - 2s 3ms/step - loss: 0.1409 - accuracy: 0.9603\n",
            "Epoch 28/100\n",
            "600/600 [==============================] - 3s 5ms/step - loss: 0.1379 - accuracy: 0.9609\n",
            "Epoch 29/100\n",
            "600/600 [==============================] - 2s 3ms/step - loss: 0.1351 - accuracy: 0.9614\n",
            "Epoch 30/100\n",
            "600/600 [==============================] - 2s 3ms/step - loss: 0.1325 - accuracy: 0.9625\n",
            "Epoch 31/100\n",
            "600/600 [==============================] - 2s 3ms/step - loss: 0.1300 - accuracy: 0.9635\n",
            "Epoch 32/100\n",
            "600/600 [==============================] - 2s 3ms/step - loss: 0.1276 - accuracy: 0.9639\n",
            "Epoch 33/100\n",
            "600/600 [==============================] - 2s 3ms/step - loss: 0.1254 - accuracy: 0.9643\n",
            "Epoch 34/100\n",
            "600/600 [==============================] - 3s 5ms/step - loss: 0.1230 - accuracy: 0.9650\n",
            "Epoch 35/100\n",
            "600/600 [==============================] - 2s 3ms/step - loss: 0.1208 - accuracy: 0.9654\n",
            "Epoch 36/100\n",
            "600/600 [==============================] - 2s 3ms/step - loss: 0.1189 - accuracy: 0.9659\n",
            "Epoch 37/100\n",
            "600/600 [==============================] - 2s 3ms/step - loss: 0.1168 - accuracy: 0.9667\n",
            "Epoch 38/100\n",
            "600/600 [==============================] - 2s 3ms/step - loss: 0.1147 - accuracy: 0.9677\n",
            "Epoch 39/100\n",
            "600/600 [==============================] - 2s 3ms/step - loss: 0.1130 - accuracy: 0.9682\n",
            "Epoch 40/100\n",
            "600/600 [==============================] - 3s 5ms/step - loss: 0.1112 - accuracy: 0.9685\n",
            "Epoch 41/100\n",
            "600/600 [==============================] - 2s 3ms/step - loss: 0.1094 - accuracy: 0.9688\n",
            "Epoch 42/100\n",
            "600/600 [==============================] - 2s 3ms/step - loss: 0.1078 - accuracy: 0.9694\n",
            "Epoch 43/100\n",
            "600/600 [==============================] - 2s 3ms/step - loss: 0.1061 - accuracy: 0.9701\n",
            "Epoch 44/100\n",
            "600/600 [==============================] - 2s 3ms/step - loss: 0.1045 - accuracy: 0.9703\n",
            "Epoch 45/100\n",
            "600/600 [==============================] - 2s 3ms/step - loss: 0.1030 - accuracy: 0.9706\n",
            "Epoch 46/100\n",
            "600/600 [==============================] - 3s 4ms/step - loss: 0.1016 - accuracy: 0.9711\n",
            "Epoch 47/100\n",
            "600/600 [==============================] - 2s 4ms/step - loss: 0.1000 - accuracy: 0.9721\n",
            "Epoch 48/100\n",
            "600/600 [==============================] - 2s 3ms/step - loss: 0.0988 - accuracy: 0.9720\n",
            "Epoch 49/100\n",
            "600/600 [==============================] - 2s 3ms/step - loss: 0.0974 - accuracy: 0.9722\n",
            "Epoch 50/100\n",
            "600/600 [==============================] - 2s 3ms/step - loss: 0.0960 - accuracy: 0.9728\n",
            "Epoch 51/100\n",
            "600/600 [==============================] - 2s 3ms/step - loss: 0.0947 - accuracy: 0.9733\n",
            "Epoch 52/100\n",
            "600/600 [==============================] - 3s 4ms/step - loss: 0.0935 - accuracy: 0.9737\n",
            "Epoch 53/100\n",
            "600/600 [==============================] - 2s 4ms/step - loss: 0.0922 - accuracy: 0.9742\n",
            "Epoch 54/100\n",
            "600/600 [==============================] - 2s 3ms/step - loss: 0.0911 - accuracy: 0.9744\n",
            "Epoch 55/100\n",
            "600/600 [==============================] - 2s 3ms/step - loss: 0.0900 - accuracy: 0.9744\n",
            "Epoch 56/100\n",
            "600/600 [==============================] - 2s 3ms/step - loss: 0.0888 - accuracy: 0.9751\n",
            "Epoch 57/100\n",
            "600/600 [==============================] - 2s 3ms/step - loss: 0.0877 - accuracy: 0.9752\n",
            "Epoch 58/100\n",
            "600/600 [==============================] - 3s 5ms/step - loss: 0.0867 - accuracy: 0.9753\n",
            "Epoch 59/100\n",
            "600/600 [==============================] - 2s 4ms/step - loss: 0.0857 - accuracy: 0.9761\n",
            "Epoch 60/100\n",
            "600/600 [==============================] - 2s 3ms/step - loss: 0.0846 - accuracy: 0.9763\n",
            "Epoch 61/100\n",
            "600/600 [==============================] - 2s 3ms/step - loss: 0.0836 - accuracy: 0.9766\n",
            "Epoch 62/100\n",
            "600/600 [==============================] - 2s 3ms/step - loss: 0.0826 - accuracy: 0.9768\n",
            "Epoch 63/100\n",
            "600/600 [==============================] - 2s 4ms/step - loss: 0.0816 - accuracy: 0.9771\n",
            "Epoch 64/100\n",
            "600/600 [==============================] - 5s 9ms/step - loss: 0.0807 - accuracy: 0.9775\n",
            "Epoch 65/100\n",
            "600/600 [==============================] - 2s 4ms/step - loss: 0.0797 - accuracy: 0.9778\n",
            "Epoch 66/100\n",
            "600/600 [==============================] - 2s 3ms/step - loss: 0.0789 - accuracy: 0.9778\n",
            "Epoch 67/100\n",
            "600/600 [==============================] - 2s 3ms/step - loss: 0.0780 - accuracy: 0.9782\n",
            "Epoch 68/100\n",
            "600/600 [==============================] - 4s 7ms/step - loss: 0.0771 - accuracy: 0.9784\n",
            "Epoch 69/100\n",
            "600/600 [==============================] - 4s 6ms/step - loss: 0.0763 - accuracy: 0.9789\n",
            "Epoch 70/100\n",
            "600/600 [==============================] - 3s 5ms/step - loss: 0.0755 - accuracy: 0.9787\n",
            "Epoch 71/100\n",
            "600/600 [==============================] - 4s 6ms/step - loss: 0.0746 - accuracy: 0.9793\n",
            "Epoch 72/100\n",
            "600/600 [==============================] - 6s 9ms/step - loss: 0.0739 - accuracy: 0.9794\n",
            "Epoch 73/100\n",
            "600/600 [==============================] - 5s 8ms/step - loss: 0.0731 - accuracy: 0.9796\n",
            "Epoch 74/100\n",
            "600/600 [==============================] - 4s 6ms/step - loss: 0.0724 - accuracy: 0.9801\n",
            "Epoch 75/100\n",
            "600/600 [==============================] - 4s 7ms/step - loss: 0.0716 - accuracy: 0.9803\n",
            "Epoch 76/100\n",
            "600/600 [==============================] - 2s 4ms/step - loss: 0.0709 - accuracy: 0.9805\n",
            "Epoch 77/100\n",
            "600/600 [==============================] - 2s 4ms/step - loss: 0.0701 - accuracy: 0.9806\n",
            "Epoch 78/100\n",
            "600/600 [==============================] - 3s 4ms/step - loss: 0.0693 - accuracy: 0.9812\n",
            "Epoch 79/100\n",
            "600/600 [==============================] - 3s 5ms/step - loss: 0.0688 - accuracy: 0.9810\n",
            "Epoch 80/100\n",
            "600/600 [==============================] - 3s 5ms/step - loss: 0.0680 - accuracy: 0.9816\n",
            "Epoch 81/100\n",
            "600/600 [==============================] - 2s 4ms/step - loss: 0.0674 - accuracy: 0.9815\n",
            "Epoch 82/100\n",
            "600/600 [==============================] - 3s 5ms/step - loss: 0.0667 - accuracy: 0.9819\n",
            "Epoch 83/100\n",
            "600/600 [==============================] - 4s 7ms/step - loss: 0.0660 - accuracy: 0.9822\n",
            "Epoch 84/100\n",
            "600/600 [==============================] - 5s 8ms/step - loss: 0.0654 - accuracy: 0.9820\n",
            "Epoch 85/100\n",
            "600/600 [==============================] - 3s 6ms/step - loss: 0.0648 - accuracy: 0.9827\n",
            "Epoch 86/100\n",
            "600/600 [==============================] - 5s 8ms/step - loss: 0.0643 - accuracy: 0.9828\n",
            "Epoch 87/100\n",
            "600/600 [==============================] - 5s 8ms/step - loss: 0.0636 - accuracy: 0.9829\n",
            "Epoch 88/100\n",
            "600/600 [==============================] - 3s 6ms/step - loss: 0.0630 - accuracy: 0.9831\n",
            "Epoch 89/100\n",
            "600/600 [==============================] - 2s 4ms/step - loss: 0.0623 - accuracy: 0.9833\n",
            "Epoch 90/100\n",
            "600/600 [==============================] - 5s 8ms/step - loss: 0.0618 - accuracy: 0.9839\n",
            "Epoch 91/100\n",
            "600/600 [==============================] - 4s 6ms/step - loss: 0.0613 - accuracy: 0.9835\n",
            "Epoch 92/100\n",
            "600/600 [==============================] - 4s 7ms/step - loss: 0.0607 - accuracy: 0.9836\n",
            "Epoch 93/100\n",
            "600/600 [==============================] - 4s 6ms/step - loss: 0.0602 - accuracy: 0.9841\n",
            "Epoch 94/100\n",
            "600/600 [==============================] - 4s 7ms/step - loss: 0.0596 - accuracy: 0.9842\n",
            "Epoch 95/100\n",
            "600/600 [==============================] - 3s 5ms/step - loss: 0.0591 - accuracy: 0.9843\n",
            "Epoch 96/100\n",
            "600/600 [==============================] - 2s 4ms/step - loss: 0.0586 - accuracy: 0.9844\n",
            "Epoch 97/100\n",
            "600/600 [==============================] - 4s 6ms/step - loss: 0.0581 - accuracy: 0.9845\n",
            "Epoch 98/100\n",
            "600/600 [==============================] - 4s 7ms/step - loss: 0.0576 - accuracy: 0.9846\n",
            "Epoch 99/100\n",
            "600/600 [==============================] - 3s 5ms/step - loss: 0.0571 - accuracy: 0.9851\n",
            "Epoch 100/100\n",
            "600/600 [==============================] - 3s 6ms/step - loss: 0.0566 - accuracy: 0.9851\n"
          ]
        }
      ]
    },
    {
      "cell_type": "code",
      "source": [
        "# Setup and learn model V3\n",
        "optimize = tf.keras.optimizers.experimental.SGD(learning_rate=0.1)\n",
        "model.compile(optimizer='adam', loss='sparse_categorical_crossentropy', metrics=['accuracy'])\n",
        "history = model.fit(xTrain, yTrain, batch_size=100, epochs=100)"
      ],
      "metadata": {
        "colab": {
          "base_uri": "https://localhost:8080/"
        },
        "id": "hIeyrU2wbZoz",
        "outputId": "76e00329-8704-429b-924d-6634ebdcf1e7"
      },
      "execution_count": null,
      "outputs": [
        {
          "output_type": "stream",
          "name": "stdout",
          "text": [
            "Epoch 1/100\n",
            "600/600 [==============================] - 3s 4ms/step - loss: 0.0619 - accuracy: 0.9823\n",
            "Epoch 2/100\n",
            "600/600 [==============================] - 3s 5ms/step - loss: 0.0574 - accuracy: 0.9839\n",
            "Epoch 3/100\n",
            "600/600 [==============================] - 2s 3ms/step - loss: 0.0539 - accuracy: 0.9850\n",
            "Epoch 4/100\n",
            "600/600 [==============================] - 2s 3ms/step - loss: 0.0506 - accuracy: 0.9867\n",
            "Epoch 5/100\n",
            "600/600 [==============================] - 2s 4ms/step - loss: 0.0480 - accuracy: 0.9873\n",
            "Epoch 6/100\n",
            "600/600 [==============================] - 2s 3ms/step - loss: 0.0453 - accuracy: 0.9886\n",
            "Epoch 7/100\n",
            "600/600 [==============================] - 3s 5ms/step - loss: 0.0434 - accuracy: 0.9888\n",
            "Epoch 8/100\n",
            "600/600 [==============================] - 2s 3ms/step - loss: 0.0409 - accuracy: 0.9903\n",
            "Epoch 9/100\n",
            "600/600 [==============================] - 2s 3ms/step - loss: 0.0387 - accuracy: 0.9907\n",
            "Epoch 10/100\n",
            "600/600 [==============================] - 2s 3ms/step - loss: 0.0367 - accuracy: 0.9913\n",
            "Epoch 11/100\n",
            "600/600 [==============================] - 2s 3ms/step - loss: 0.0353 - accuracy: 0.9916\n",
            "Epoch 12/100\n",
            "600/600 [==============================] - 2s 4ms/step - loss: 0.0335 - accuracy: 0.9928\n",
            "Epoch 13/100\n",
            "600/600 [==============================] - 3s 5ms/step - loss: 0.0315 - accuracy: 0.9930\n",
            "Epoch 14/100\n",
            "600/600 [==============================] - 2s 3ms/step - loss: 0.0303 - accuracy: 0.9934\n",
            "Epoch 15/100\n",
            "600/600 [==============================] - 2s 3ms/step - loss: 0.0288 - accuracy: 0.9939\n",
            "Epoch 16/100\n",
            "600/600 [==============================] - 2s 4ms/step - loss: 0.0273 - accuracy: 0.9947\n",
            "Epoch 17/100\n",
            "600/600 [==============================] - 2s 3ms/step - loss: 0.0260 - accuracy: 0.9948\n",
            "Epoch 18/100\n",
            "600/600 [==============================] - 3s 4ms/step - loss: 0.0249 - accuracy: 0.9954\n",
            "Epoch 19/100\n",
            "600/600 [==============================] - 2s 4ms/step - loss: 0.0236 - accuracy: 0.9956\n",
            "Epoch 20/100\n",
            "600/600 [==============================] - 2s 4ms/step - loss: 0.0225 - accuracy: 0.9961\n",
            "Epoch 21/100\n",
            "600/600 [==============================] - 2s 3ms/step - loss: 0.0215 - accuracy: 0.9962\n",
            "Epoch 22/100\n",
            "600/600 [==============================] - 2s 3ms/step - loss: 0.0203 - accuracy: 0.9971\n",
            "Epoch 23/100\n",
            "600/600 [==============================] - 2s 3ms/step - loss: 0.0195 - accuracy: 0.9969\n",
            "Epoch 24/100\n",
            "600/600 [==============================] - 3s 5ms/step - loss: 0.0184 - accuracy: 0.9974\n",
            "Epoch 25/100\n",
            "600/600 [==============================] - 2s 4ms/step - loss: 0.0176 - accuracy: 0.9975\n",
            "Epoch 26/100\n",
            "600/600 [==============================] - 3s 4ms/step - loss: 0.0169 - accuracy: 0.9976\n",
            "Epoch 27/100\n",
            "600/600 [==============================] - 2s 4ms/step - loss: 0.0160 - accuracy: 0.9979\n",
            "Epoch 28/100\n",
            "600/600 [==============================] - 2s 3ms/step - loss: 0.0152 - accuracy: 0.9980\n",
            "Epoch 29/100\n",
            "600/600 [==============================] - 3s 5ms/step - loss: 0.0144 - accuracy: 0.9984\n",
            "Epoch 30/100\n",
            "600/600 [==============================] - 3s 4ms/step - loss: 0.0138 - accuracy: 0.9984\n",
            "Epoch 31/100\n",
            "600/600 [==============================] - 2s 3ms/step - loss: 0.0129 - accuracy: 0.9988\n",
            "Epoch 32/100\n",
            "600/600 [==============================] - 2s 3ms/step - loss: 0.0125 - accuracy: 0.9987\n",
            "Epoch 33/100\n",
            "600/600 [==============================] - 2s 4ms/step - loss: 0.0117 - accuracy: 0.9989\n",
            "Epoch 34/100\n",
            "600/600 [==============================] - 3s 5ms/step - loss: 0.0113 - accuracy: 0.9990\n",
            "Epoch 35/100\n",
            "600/600 [==============================] - 2s 4ms/step - loss: 0.0107 - accuracy: 0.9992\n",
            "Epoch 36/100\n",
            "600/600 [==============================] - 2s 3ms/step - loss: 0.0101 - accuracy: 0.9991\n",
            "Epoch 37/100\n",
            "600/600 [==============================] - 2s 3ms/step - loss: 0.0097 - accuracy: 0.9993\n",
            "Epoch 38/100\n",
            "600/600 [==============================] - 2s 3ms/step - loss: 0.0092 - accuracy: 0.9994\n",
            "Epoch 39/100\n",
            "600/600 [==============================] - 2s 3ms/step - loss: 0.0086 - accuracy: 0.9995\n",
            "Epoch 40/100\n",
            "600/600 [==============================] - 3s 5ms/step - loss: 0.0083 - accuracy: 0.9995\n",
            "Epoch 41/100\n",
            "600/600 [==============================] - 2s 3ms/step - loss: 0.0079 - accuracy: 0.9996\n",
            "Epoch 42/100\n",
            "600/600 [==============================] - 2s 4ms/step - loss: 0.0074 - accuracy: 0.9996\n",
            "Epoch 43/100\n",
            "600/600 [==============================] - 2s 3ms/step - loss: 0.0071 - accuracy: 0.9997\n",
            "Epoch 44/100\n",
            "600/600 [==============================] - 2s 3ms/step - loss: 0.0065 - accuracy: 0.9998\n",
            "Epoch 45/100\n",
            "600/600 [==============================] - 4s 6ms/step - loss: 0.0064 - accuracy: 0.9998\n",
            "Epoch 46/100\n",
            "600/600 [==============================] - 2s 4ms/step - loss: 0.0060 - accuracy: 0.9998\n",
            "Epoch 47/100\n",
            "600/600 [==============================] - 3s 4ms/step - loss: 0.0058 - accuracy: 0.9998\n",
            "Epoch 48/100\n",
            "600/600 [==============================] - 3s 4ms/step - loss: 0.0055 - accuracy: 0.9998\n",
            "Epoch 49/100\n",
            "600/600 [==============================] - 2s 4ms/step - loss: 0.0051 - accuracy: 0.9999\n",
            "Epoch 50/100\n",
            "600/600 [==============================] - 3s 5ms/step - loss: 0.0048 - accuracy: 0.9999\n",
            "Epoch 51/100\n",
            "600/600 [==============================] - 2s 3ms/step - loss: 0.0046 - accuracy: 0.9999\n",
            "Epoch 52/100\n",
            "600/600 [==============================] - 2s 4ms/step - loss: 0.0044 - accuracy: 0.9999\n",
            "Epoch 53/100\n",
            "600/600 [==============================] - 2s 4ms/step - loss: 0.0041 - accuracy: 0.9999\n",
            "Epoch 54/100\n",
            "600/600 [==============================] - 2s 4ms/step - loss: 0.0039 - accuracy: 0.9999\n",
            "Epoch 55/100\n",
            "600/600 [==============================] - 3s 5ms/step - loss: 0.0037 - accuracy: 0.9999\n",
            "Epoch 56/100\n",
            "600/600 [==============================] - 2s 4ms/step - loss: 0.0036 - accuracy: 0.9999\n",
            "Epoch 57/100\n",
            "600/600 [==============================] - 2s 4ms/step - loss: 0.0032 - accuracy: 1.0000\n",
            "Epoch 58/100\n",
            "600/600 [==============================] - 2s 4ms/step - loss: 0.0031 - accuracy: 0.9999\n",
            "Epoch 59/100\n",
            "600/600 [==============================] - 4s 6ms/step - loss: 0.0031 - accuracy: 0.9999\n",
            "Epoch 60/100\n",
            "600/600 [==============================] - 6s 10ms/step - loss: 0.0028 - accuracy: 1.0000\n",
            "Epoch 61/100\n",
            "600/600 [==============================] - 4s 7ms/step - loss: 0.0027 - accuracy: 1.0000\n",
            "Epoch 62/100\n",
            "600/600 [==============================] - 4s 6ms/step - loss: 0.0025 - accuracy: 1.0000\n",
            "Epoch 63/100\n",
            "600/600 [==============================] - 5s 9ms/step - loss: 0.0025 - accuracy: 1.0000\n",
            "Epoch 64/100\n",
            "600/600 [==============================] - 5s 8ms/step - loss: 0.0022 - accuracy: 1.0000\n",
            "Epoch 65/100\n",
            "600/600 [==============================] - 2s 3ms/step - loss: 0.0022 - accuracy: 1.0000\n",
            "Epoch 66/100\n",
            "600/600 [==============================] - 3s 5ms/step - loss: 0.0020 - accuracy: 1.0000\n",
            "Epoch 67/100\n",
            "600/600 [==============================] - 2s 4ms/step - loss: 0.0019 - accuracy: 1.0000\n",
            "Epoch 68/100\n",
            "600/600 [==============================] - 2s 3ms/step - loss: 0.0018 - accuracy: 1.0000\n",
            "Epoch 69/100\n",
            "600/600 [==============================] - 2s 3ms/step - loss: 0.0017 - accuracy: 1.0000\n",
            "Epoch 70/100\n",
            "600/600 [==============================] - 2s 3ms/step - loss: 0.0017 - accuracy: 1.0000\n",
            "Epoch 71/100\n",
            "600/600 [==============================] - 2s 3ms/step - loss: 0.0016 - accuracy: 1.0000\n",
            "Epoch 72/100\n",
            "600/600 [==============================] - 3s 5ms/step - loss: 0.0015 - accuracy: 1.0000\n",
            "Epoch 73/100\n",
            "600/600 [==============================] - 2s 3ms/step - loss: 0.0014 - accuracy: 1.0000\n",
            "Epoch 74/100\n",
            "600/600 [==============================] - 2s 4ms/step - loss: 0.0014 - accuracy: 1.0000\n",
            "Epoch 75/100\n",
            "600/600 [==============================] - 4s 7ms/step - loss: 0.0012 - accuracy: 1.0000\n",
            "Epoch 76/100\n",
            "600/600 [==============================] - 4s 6ms/step - loss: 0.0012 - accuracy: 1.0000\n",
            "Epoch 77/100\n",
            "600/600 [==============================] - 4s 7ms/step - loss: 0.0011 - accuracy: 1.0000\n",
            "Epoch 78/100\n",
            "600/600 [==============================] - 3s 5ms/step - loss: 0.0011 - accuracy: 1.0000\n",
            "Epoch 79/100\n",
            "600/600 [==============================] - 3s 4ms/step - loss: 9.4504e-04 - accuracy: 1.0000\n",
            "Epoch 80/100\n",
            "600/600 [==============================] - 3s 6ms/step - loss: 9.0782e-04 - accuracy: 1.0000\n",
            "Epoch 81/100\n",
            "600/600 [==============================] - 5s 8ms/step - loss: 9.3618e-04 - accuracy: 1.0000\n",
            "Epoch 82/100\n",
            "600/600 [==============================] - 3s 5ms/step - loss: 9.5792e-04 - accuracy: 1.0000\n",
            "Epoch 83/100\n",
            "600/600 [==============================] - 3s 4ms/step - loss: 8.8886e-04 - accuracy: 1.0000\n",
            "Epoch 84/100\n",
            "600/600 [==============================] - 3s 5ms/step - loss: 7.2496e-04 - accuracy: 1.0000\n",
            "Epoch 85/100\n",
            "600/600 [==============================] - 3s 4ms/step - loss: 6.9999e-04 - accuracy: 1.0000\n",
            "Epoch 86/100\n",
            "600/600 [==============================] - 2s 3ms/step - loss: 6.6515e-04 - accuracy: 1.0000\n",
            "Epoch 87/100\n",
            "600/600 [==============================] - 3s 5ms/step - loss: 7.5398e-04 - accuracy: 1.0000\n",
            "Epoch 88/100\n",
            "600/600 [==============================] - 5s 8ms/step - loss: 7.2917e-04 - accuracy: 1.0000\n",
            "Epoch 89/100\n",
            "600/600 [==============================] - 5s 8ms/step - loss: 5.6260e-04 - accuracy: 1.0000\n",
            "Epoch 90/100\n",
            "600/600 [==============================] - 4s 7ms/step - loss: 5.0826e-04 - accuracy: 1.0000\n",
            "Epoch 91/100\n",
            "600/600 [==============================] - 5s 8ms/step - loss: 4.9122e-04 - accuracy: 1.0000\n",
            "Epoch 92/100\n",
            "600/600 [==============================] - 4s 7ms/step - loss: 0.0014 - accuracy: 0.9998\n",
            "Epoch 93/100\n",
            "600/600 [==============================] - 4s 6ms/step - loss: 5.7213e-04 - accuracy: 1.0000\n",
            "Epoch 94/100\n",
            "600/600 [==============================] - 4s 7ms/step - loss: 4.0998e-04 - accuracy: 1.0000\n",
            "Epoch 95/100\n",
            "600/600 [==============================] - 5s 8ms/step - loss: 3.8549e-04 - accuracy: 1.0000\n",
            "Epoch 96/100\n",
            "600/600 [==============================] - 5s 8ms/step - loss: 3.7149e-04 - accuracy: 1.0000\n",
            "Epoch 97/100\n",
            "600/600 [==============================] - 4s 6ms/step - loss: 3.6746e-04 - accuracy: 1.0000\n",
            "Epoch 98/100\n",
            "600/600 [==============================] - 5s 9ms/step - loss: 3.7155e-04 - accuracy: 1.0000\n",
            "Epoch 99/100\n",
            "600/600 [==============================] - 4s 7ms/step - loss: 3.5995e-04 - accuracy: 1.0000\n",
            "Epoch 100/100\n",
            "600/600 [==============================] - 3s 5ms/step - loss: 4.3516e-04 - accuracy: 1.0000\n"
          ]
        }
      ]
    },
    {
      "cell_type": "code",
      "source": [
        "# V4\n",
        "# doit mettre les reshape en commentaire\n",
        "\n",
        "# initialisation\n",
        "(xTrain, yTrain), (xTest, yTest) = tf.keras.datasets.mnist.load_data()\n",
        "xTrain = xTrain/255\n",
        "xTest = xTest/255"
      ],
      "metadata": {
        "id": "jhE8JGzIiLKc"
      },
      "execution_count": null,
      "outputs": []
    },
    {
      "cell_type": "code",
      "source": [
        "# Display metrics\n",
        "plt.figure()\n",
        "plt.title('Loss')\n",
        "plt.plot(history.history['loss'])\n",
        "plt.figure()\n",
        "plt.title('Accuracy')\n",
        "plt.plot(history.history['accuracy'])"
      ],
      "metadata": {
        "colab": {
          "base_uri": "https://localhost:8080/",
          "height": 904
        },
        "id": "kCoe5ARQd9xK",
        "outputId": "cb0cf0a1-a8ca-481a-c1ac-7cb61da0e37d"
      },
      "execution_count": null,
      "outputs": [
        {
          "output_type": "execute_result",
          "data": {
            "text/plain": [
              "[<matplotlib.lines.Line2D at 0x7ea98be9fc70>]"
            ]
          },
          "metadata": {},
          "execution_count": 13
        },
        {
          "output_type": "display_data",
          "data": {
            "text/plain": [
              "<Figure size 640x480 with 1 Axes>"
            ],
            "image/png": "[encoded data removed]"
          },
          "metadata": {}
        },
        {
          "output_type": "display_data",
          "data": {
            "text/plain": [
              "<Figure size 640x480 with 1 Axes>"
            ],
            "image/png": "[encoded data removed]"
          },
          "metadata": {}
        }
      ]
    },
    {
      "cell_type": "code",
      "source": [
        "metrics = model.evaluate(xTest, yTest)\n",
        "print('MSE : '+str(metrics[0]))\n",
        "print('Accucracy : '+str(100*metrics[1]))"
      ],
      "metadata": {
        "colab": {
          "base_uri": "https://localhost:8080/"
        },
        "id": "5te7ymZ0ebXb",
        "outputId": "a3a3a06c-31fe-43a3-f9fd-bbb65cdf934a"
      },
      "execution_count": null,
      "outputs": [
        {
          "output_type": "stream",
          "name": "stdout",
          "text": [
            "313/313 [==============================] - 2s 6ms/step - loss: 0.1628 - accuracy: 0.9692\n",
            "MSE : 0.16278542578220367\n",
            "Accucracy : 96.92000150680542\n"
          ]
        }
      ]
    },
    {
      "cell_type": "code",
      "source": [
        "# # Define neural network\n",
        "# model = tf.keras.models.Sequential()\n",
        "\n",
        "# #model.add(tf.keras.layers.InputLayer(input_shape=(xTrain[1],)))\n",
        "# model.add(tf.keras.layers.Flattent(input_shape=(xTrain.shape[1],xTrain.shape[2])))\n",
        "# model.add(tf.keras.layers.Dense(128, activation='relu'))\n",
        "# model.add(tf.keras.layers.Dense(10, activation='softmax'))\n",
        "# model.summary()\n",
        "# tf.keras.utils.plot_model(model, show_shapes=True)"
      ],
      "metadata": {
        "id": "72loqKVB1W4A"
      },
      "execution_count": null,
      "outputs": []
    },
    {
      "cell_type": "markdown",
      "source": [
        "# Partie 9"
      ],
      "metadata": {
        "id": "OO9PMZLj4xbf"
      }
    },
    {
      "cell_type": "code",
      "source": [
        "# initialisation\n",
        "(xTrain, yTrain), (xTest, yTest) = tf.keras.datasets.mnist.load_data()\n",
        "xTrain = xTrain/255\n",
        "xTest = xTest/255"
      ],
      "metadata": {
        "id": "wpICDlqk4xKY"
      },
      "execution_count": null,
      "outputs": []
    },
    {
      "cell_type": "code",
      "source": [
        "# Partie 9 :\n",
        "# Define neural network\n",
        "model = tf.keras.models.Sequential()\n",
        "\n",
        "model.add(tf.keras.layers.Input(shape=(xTrain.shape[1],xTrain.shape[2],1)))\n",
        "model.add(tf.keras.layers.Conv2D(32,kernel_size=(3,3), activation='relu' ))\n",
        "model.add(tf.keras.layers.MaxPooling2D(pool_size=(2,2)))\n",
        "model.add(tf.keras.layers.Conv2D(64,kernel_size=(3,3), activation='relu' ))\n",
        "model.add(tf.keras.layers.MaxPooling2D(pool_size=(2,2)))\n",
        "model.add(tf.keras.layers.Flatten())\n",
        "model.add(tf.keras.layers.Dense(10, activation='softmax'))\n",
        "model.summary()\n",
        "tf.keras.utils.plot_model(model, show_shapes=True)"
      ],
      "metadata": {
        "colab": {
          "base_uri": "https://localhost:8080/",
          "height": 1000
        },
        "id": "IrXyHpn-2wnh",
        "outputId": "22f1c25e-1683-4f1f-a2da-2bd3e93a3d40"
      },
      "execution_count": null,
      "outputs": [
        {
          "output_type": "stream",
          "name": "stdout",
          "text": [
            "Model: \"sequential_12\"\n",
            "_________________________________________________________________\n",
            " Layer (type)                Output Shape              Param #   \n",
            "=================================================================\n",
            " conv2d_7 (Conv2D)           (None, 26, 26, 32)        320       \n",
            "                                                                 \n",
            " max_pooling2d_5 (MaxPoolin  (None, 13, 13, 32)        0         \n",
            " g2D)                                                            \n",
            "                                                                 \n",
            " conv2d_8 (Conv2D)           (None, 11, 11, 64)        18496     \n",
            "                                                                 \n",
            " max_pooling2d_6 (MaxPoolin  (None, 5, 5, 64)          0         \n",
            " g2D)                                                            \n",
            "                                                                 \n",
            " flatten_1 (Flatten)         (None, 1600)              0         \n",
            "                                                                 \n",
            " dense_3 (Dense)             (None, 10)                16010     \n",
            "                                                                 \n",
            "=================================================================\n",
            "Total params: 34826 (136.04 KB)\n",
            "Trainable params: 34826 (136.04 KB)\n",
            "Non-trainable params: 0 (0.00 Byte)\n",
            "_________________________________________________________________\n"
          ]
        },
        {
          "output_type": "execute_result",
          "data": {
            "image/png": "[encoded data removed]",
            "text/plain": [
              "<IPython.core.display.Image object>"
            ]
          },
          "metadata": {},
          "execution_count": 30
        }
      ]
    },
    {
      "cell_type": "code",
      "source": [
        "# Display filters\n",
        "filters, _ = model.layers[0].get_weigths()\n",
        "_, axis = plt.subplots(8,4)\n",
        "k = 0\n",
        "for i in range (0,8):\n",
        "  for j in range (0,4):\n",
        "    axis[i,j].imshow(filters[:, :, :,k].reshape(3,3),cmap='gray')\n",
        "    k+=1"
      ],
      "metadata": {
        "colab": {
          "base_uri": "https://localhost:8080/",
          "height": 211
        },
        "id": "JnJVeuk07RA3",
        "outputId": "846213c0-1792-402b-fe58-4d99085bb861"
      },
      "execution_count": null,
      "outputs": [
        {
          "output_type": "error",
          "ename": "AttributeError",
          "evalue": "'Conv2D' object has no attribute 'get_weigths'",
          "traceback": [
            "\u001b[0;31m---------------------------------------------------------------------------\u001b[0m",
            "\u001b[0;31mAttributeError\u001b[0m                            Traceback (most recent call last)",
            "\u001b[0;32m<ipython-input-33-60df9d994a2e>\u001b[0m in \u001b[0;36m<cell line: 2>\u001b[0;34m()\u001b[0m\n\u001b[1;32m      1\u001b[0m \u001b[0;31m# Display filters\u001b[0m\u001b[0;34m\u001b[0m\u001b[0;34m\u001b[0m\u001b[0m\n\u001b[0;32m----> 2\u001b[0;31m \u001b[0mfilters\u001b[0m\u001b[0;34m,\u001b[0m \u001b[0m_\u001b[0m \u001b[0;34m=\u001b[0m \u001b[0mmodel\u001b[0m\u001b[0;34m.\u001b[0m\u001b[0mlayers\u001b[0m\u001b[0;34m[\u001b[0m\u001b[0;36m0\u001b[0m\u001b[0;34m]\u001b[0m\u001b[0;34m.\u001b[0m\u001b[0mget_weigths\u001b[0m\u001b[0;34m(\u001b[0m\u001b[0;34m)\u001b[0m\u001b[0;34m\u001b[0m\u001b[0;34m\u001b[0m\u001b[0m\n\u001b[0m\u001b[1;32m      3\u001b[0m \u001b[0m_\u001b[0m\u001b[0;34m,\u001b[0m \u001b[0maxis\u001b[0m \u001b[0;34m=\u001b[0m \u001b[0mplt\u001b[0m\u001b[0;34m.\u001b[0m\u001b[0msubplots\u001b[0m\u001b[0;34m(\u001b[0m\u001b[0;36m8\u001b[0m\u001b[0;34m,\u001b[0m\u001b[0;36m4\u001b[0m\u001b[0;34m)\u001b[0m\u001b[0;34m\u001b[0m\u001b[0;34m\u001b[0m\u001b[0m\n\u001b[1;32m      4\u001b[0m \u001b[0mk\u001b[0m \u001b[0;34m=\u001b[0m \u001b[0;36m0\u001b[0m\u001b[0;34m\u001b[0m\u001b[0;34m\u001b[0m\u001b[0m\n\u001b[1;32m      5\u001b[0m \u001b[0;32mfor\u001b[0m \u001b[0mi\u001b[0m \u001b[0;32min\u001b[0m \u001b[0mrange\u001b[0m \u001b[0;34m(\u001b[0m\u001b[0;36m0\u001b[0m\u001b[0;34m,\u001b[0m\u001b[0;36m8\u001b[0m\u001b[0;34m)\u001b[0m\u001b[0;34m:\u001b[0m\u001b[0;34m\u001b[0m\u001b[0;34m\u001b[0m\u001b[0m\n",
            "\u001b[0;31mAttributeError\u001b[0m: 'Conv2D' object has no attribute 'get_weigths'"
          ]
        }
      ]
    },
    {
      "cell_type": "code",
      "source": [
        "# Display feature map\n",
        "featuresMapsModel = tf.keras.models.Model(inputs=model.inputs,\n",
        "                                          outputs=model.outputs)\n",
        "x=xTrain[100].reshape(1,28,28,1)\n",
        "featuresMaps = featuresMapsModel.predict(x)\n",
        "_,axis = plt.subplots(8,4)\n",
        "k = 0\n",
        "for i in range (0,8):\n",
        "  for j in range (0,4):\n",
        "    axis[i,j].imshow(featuresMaps[:, :, :,k].reshape(26,26),cmap='gray')\n",
        "    k+=1"
      ],
      "metadata": {
        "colab": {
          "base_uri": "https://localhost:8080/",
          "height": 629
        },
        "id": "EI0kbbME8wgy",
        "outputId": "c7f9454a-af57-47d5-e98d-0d4b448b1df9"
      },
      "execution_count": null,
      "outputs": [
        {
          "output_type": "stream",
          "name": "stdout",
          "text": [
            "1/1 [==============================] - 0s 83ms/step\n"
          ]
        },
        {
          "output_type": "error",
          "ename": "IndexError",
          "evalue": "too many indices for array: array is 2-dimensional, but 4 were indexed",
          "traceback": [
            "\u001b[0;31m---------------------------------------------------------------------------\u001b[0m",
            "\u001b[0;31mIndexError\u001b[0m                                Traceback (most recent call last)",
            "\u001b[0;32m<ipython-input-36-70efea92e62f>\u001b[0m in \u001b[0;36m<cell line: 8>\u001b[0;34m()\u001b[0m\n\u001b[1;32m      8\u001b[0m \u001b[0;32mfor\u001b[0m \u001b[0mi\u001b[0m \u001b[0;32min\u001b[0m \u001b[0mrange\u001b[0m \u001b[0;34m(\u001b[0m\u001b[0;36m0\u001b[0m\u001b[0;34m,\u001b[0m\u001b[0;36m8\u001b[0m\u001b[0;34m)\u001b[0m\u001b[0;34m:\u001b[0m\u001b[0;34m\u001b[0m\u001b[0;34m\u001b[0m\u001b[0m\n\u001b[1;32m      9\u001b[0m   \u001b[0;32mfor\u001b[0m \u001b[0mj\u001b[0m \u001b[0;32min\u001b[0m \u001b[0mrange\u001b[0m \u001b[0;34m(\u001b[0m\u001b[0;36m0\u001b[0m\u001b[0;34m,\u001b[0m\u001b[0;36m4\u001b[0m\u001b[0;34m)\u001b[0m\u001b[0;34m:\u001b[0m\u001b[0;34m\u001b[0m\u001b[0;34m\u001b[0m\u001b[0m\n\u001b[0;32m---> 10\u001b[0;31m     \u001b[0maxis\u001b[0m\u001b[0;34m[\u001b[0m\u001b[0mi\u001b[0m\u001b[0;34m,\u001b[0m\u001b[0mj\u001b[0m\u001b[0;34m]\u001b[0m\u001b[0;34m.\u001b[0m\u001b[0mimshow\u001b[0m\u001b[0;34m(\u001b[0m\u001b[0mfeaturesMaps\u001b[0m\u001b[0;34m[\u001b[0m\u001b[0;34m:\u001b[0m\u001b[0;34m,\u001b[0m \u001b[0;34m:\u001b[0m\u001b[0;34m,\u001b[0m \u001b[0;34m:\u001b[0m\u001b[0;34m,\u001b[0m\u001b[0mk\u001b[0m\u001b[0;34m]\u001b[0m\u001b[0;34m.\u001b[0m\u001b[0mreshape\u001b[0m\u001b[0;34m(\u001b[0m\u001b[0;36m26\u001b[0m\u001b[0;34m,\u001b[0m\u001b[0;36m26\u001b[0m\u001b[0;34m)\u001b[0m\u001b[0;34m,\u001b[0m\u001b[0mcmap\u001b[0m\u001b[0;34m=\u001b[0m\u001b[0;34m'gray'\u001b[0m\u001b[0;34m)\u001b[0m\u001b[0;34m\u001b[0m\u001b[0;34m\u001b[0m\u001b[0m\n\u001b[0m\u001b[1;32m     11\u001b[0m     \u001b[0mk\u001b[0m\u001b[0;34m+=\u001b[0m\u001b[0;36m1\u001b[0m\u001b[0;34m\u001b[0m\u001b[0;34m\u001b[0m\u001b[0m\n",
            "\u001b[0;31mIndexError\u001b[0m: too many indices for array: array is 2-dimensional, but 4 were indexed"
          ]
        },
        {
          "output_type": "display_data",
          "data": {
            "text/plain": [
              "<Figure size 640x480 with 32 Axes>"
            ],
            "image/png": "[encoded data removed]"
          },
          "metadata": {}
        }
      ]
    }
  ]
}