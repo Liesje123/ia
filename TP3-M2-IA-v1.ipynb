{
 "cells": [
  {
   "cell_type": "markdown",
   "metadata": {},
   "source": [
    "# Apprentissage automatique"
   ]
  },
  {
   "cell_type": "markdown",
   "metadata": {},
   "source": [
    "## TP N°3 - Apprentissage automatique\n",
    "### Le Perceptron multicouche"
   ]
  },
  {
   "cell_type": "markdown",
   "metadata": {},
   "source": [
    "### 1 - Chargement des données de MNIST"
   ]
  },
  {
   "cell_type": "code",
   "execution_count": 2,
   "metadata": {},
   "outputs": [],
   "source": [
    "# Insertion des bibliothèques\n",
    "import mnist\n",
    "import numpy as np\n",
    "import matplotlib.pyplot as plt"
   ]
  },
  {
   "cell_type": "code",
   "execution_count": 3,
   "metadata": {},
   "outputs": [
    {
     "name": "stdout",
     "output_type": "stream",
     "text": [
      "La version de numpy est : 1.26.4\n"
     ]
    }
   ],
   "source": [
    "print(\"La version de numpy est :\", np.__version__)"
   ]
  },
  {
   "cell_type": "code",
   "execution_count": 4,
   "metadata": {},
   "outputs": [],
   "source": [
    "# Data loading\n",
    "\n",
    "mnistData = mnist.MNIST(\"Data\\\\MNIST\") # Path of the four ubyte files.\n",
    "trainData, trainLabels = mnistData.load_training()\n",
    "testData, testLabels = mnistData.load_testing()\n",
    "trainData = np.array(trainData)\n",
    "trainLabels = np.array(trainLabels).reshape(len(trainLabels), 1)\n",
    "testData = np.array(testData)\n",
    "testLabels = np.array(testLabels).reshape(1, len(testLabels))"
   ]
  },
  {
   "cell_type": "code",
   "execution_count": 5,
   "metadata": {},
   "outputs": [
    {
     "name": "stdout",
     "output_type": "stream",
     "text": [
      "\n",
      "............................\n",
      "............................\n",
      "............................\n",
      "............................\n",
      "............................\n",
      "..............@@@@@@........\n",
      "...........@@@@@@@@@@.......\n",
      "..........@@@@@@@@@@@@......\n",
      "..........@@@.....@@@@......\n",
      "..................@@@.......\n",
      "..................@@@.......\n",
      "..................@@@.......\n",
      "...............@@@@@@.......\n",
      "..............@@@@@.........\n",
      ".........@@@@@@@@@..........\n",
      ".........@@@@@@@@@@.........\n",
      ".................@@.........\n",
      ".................@@.........\n",
      ".................@@.........\n",
      "................@@@.........\n",
      ".......@.......@@@@.........\n",
      ".....@@@.....@@@@...........\n",
      ".....@@@@@@@@@@@............\n",
      ".......@@@@@@@..............\n",
      "........@@..................\n",
      "............................\n",
      "............................\n",
      "............................\n"
     ]
    }
   ],
   "source": [
    "# Visualisation du contenu d’une image \n",
    "\n",
    "print(mnist.MNIST().display(trainData[7])) # I is the index of the image et peut être n'importe quel chifre"
   ]
  },
  {
   "cell_type": "markdown",
   "metadata": {},
   "source": [
    "Le résultat obtenu n'est pas fiable/correcte. Une modification est nécessaire."
   ]
  },
  {
   "cell_type": "markdown",
   "metadata": {},
   "source": [
    "### 2 Normalisation des données\n",
    "\n",
    "La méthode d’optimisation liée au Perceptron multicouche (c.-à-d. la descente de gradient),\n",
    "est optimale lorsque les données sont dans un interval particulier Xn ∈ [0, 1]. Ainsi, normalisez\n",
    "les données des bases WDBC et MNIST par leur maximum."
   ]
  },
  {
   "cell_type": "code",
   "execution_count": 6,
   "metadata": {},
   "outputs": [],
   "source": [
    "# Data loading\n",
    "\n",
    "mnistData = mnist.MNIST(\"Data\\\\MNIST\") # Path of the four ubyte files.\n",
    "trainData, trainLabels = mnistData.load_training()\n",
    "testData, testLabels = mnistData.load_testing()\n",
    "trainData = np.array(trainData)/255 # afin de diviser par des floatant toujours entre 0 et 1\n",
    "trainLabels = np.array(trainLabels).reshape(len(trainLabels), 1)\n",
    "testData = np.array(testData)/255\n",
    "testLabels = np.array(testLabels).reshape(1, len(testLabels))"
   ]
  },
  {
   "cell_type": "code",
   "execution_count": 7,
   "metadata": {},
   "outputs": [],
   "source": [
    "trainLabelsMatrix = np.zeros((trainLabels.size, 10))\n",
    "for n in range(trainLabels.size):\n",
    "    trainLabelsMatrix[n, trainLabels[n]] = 1\n",
    "    \n",
    "# return trainData, trainLabelsMatrix, testData, testLabels"
   ]
  },
  {
   "cell_type": "code",
   "execution_count": 8,
   "metadata": {},
   "outputs": [
    {
     "name": "stdout",
     "output_type": "stream",
     "text": [
      "\n",
      "............................\n",
      "............................\n",
      "............................\n",
      "............................\n",
      "............................\n",
      "............................\n",
      "............................\n",
      "............................\n",
      "............................\n",
      "............................\n",
      "............................\n",
      "............................\n",
      "............................\n",
      "............................\n",
      "............................\n",
      "............................\n",
      "............................\n",
      "............................\n",
      "............................\n",
      "............................\n",
      "............................\n",
      "............................\n",
      "............................\n",
      "............................\n",
      "............................\n",
      "............................\n",
      "............................\n",
      "............................\n"
     ]
    }
   ],
   "source": [
    "# Visualisation du contenu d’une image \n",
    "\n",
    "print(mnist.MNIST().display(trainData[4])) # I is the index of the image et peut être n'importe quel chifre"
   ]
  },
  {
   "cell_type": "code",
   "execution_count": 9,
   "metadata": {},
   "outputs": [
    {
     "name": "stdout",
     "output_type": "stream",
     "text": [
      "[0.         0.         0.         0.         0.         0.\n",
      " 0.         0.         0.         0.         0.         0.\n",
      " 0.         0.         0.         0.         0.         0.\n",
      " 0.         0.         0.         0.         0.         0.\n",
      " 0.         0.         0.         0.         0.         0.\n",
      " 0.         0.         0.         0.         0.         0.\n",
      " 0.         0.         0.         0.         0.         0.\n",
      " 0.         0.         0.         0.         0.         0.\n",
      " 0.         0.         0.         0.         0.         0.\n",
      " 0.         0.         0.         0.         0.         0.\n",
      " 0.         0.         0.         0.         0.         0.\n",
      " 0.         0.         0.         0.         0.         0.\n",
      " 0.         0.         0.         0.         0.         0.\n",
      " 0.         0.         0.         0.         0.         0.\n",
      " 0.         0.         0.         0.         0.         0.\n",
      " 0.         0.         0.         0.         0.         0.\n",
      " 0.         0.         0.         0.         0.         0.\n",
      " 0.         0.         0.         0.         0.         0.\n",
      " 0.         0.         0.         0.         0.         0.\n",
      " 0.         0.         0.         0.         0.         0.\n",
      " 0.         0.         0.         0.         0.         0.\n",
      " 0.         0.         0.         0.         0.         0.\n",
      " 0.         0.         0.         0.         0.         0.\n",
      " 0.         0.         0.         0.         0.         0.04705882\n",
      " 0.38823529 0.35686275 0.55686275 0.60784314 0.96470588 0.71372549\n",
      " 0.60784314 0.60784314 0.60784314 0.60784314 0.51372549 0.20392157\n",
      " 0.         0.         0.         0.         0.         0.\n",
      " 0.         0.         0.         0.         0.         0.\n",
      " 0.         0.         0.         0.54117647 0.99607843 0.99607843\n",
      " 0.99607843 0.99607843 0.99607843 0.99607843 0.99607843 0.99607843\n",
      " 0.99607843 0.99607843 0.99607843 0.98823529 0.82352941 0.47843137\n",
      " 0.12941176 0.         0.         0.         0.         0.\n",
      " 0.         0.         0.         0.         0.         0.\n",
      " 0.         0.8627451  0.99607843 0.99607843 0.99607843 0.92156863\n",
      " 0.74117647 0.74117647 0.74117647 0.74117647 0.58823529 0.74117647\n",
      " 0.80392157 0.99607843 0.99607843 0.99607843 0.29411765 0.\n",
      " 0.         0.         0.         0.         0.         0.\n",
      " 0.         0.         0.         0.         0.         0.1372549\n",
      " 0.29019608 0.1372549  0.1372549  0.09803922 0.         0.\n",
      " 0.         0.         0.         0.         0.05098039 0.87843137\n",
      " 0.99607843 0.99607843 0.6        0.         0.         0.\n",
      " 0.         0.         0.         0.         0.         0.\n",
      " 0.         0.         0.         0.         0.         0.\n",
      " 0.         0.         0.         0.         0.         0.\n",
      " 0.         0.         0.35294118 0.99607843 0.99607843 0.96862745\n",
      " 0.20784314 0.         0.         0.         0.         0.\n",
      " 0.         0.         0.         0.         0.         0.\n",
      " 0.         0.         0.         0.         0.         0.\n",
      " 0.         0.         0.         0.         0.02352941 0.59607843\n",
      " 0.96470588 0.99607843 0.99607843 0.19215686 0.         0.\n",
      " 0.         0.         0.         0.         0.         0.\n",
      " 0.         0.         0.         0.         0.         0.\n",
      " 0.         0.         0.         0.         0.         0.\n",
      " 0.         0.25882353 0.61960784 0.99607843 0.99607843 0.97647059\n",
      " 0.40392157 0.03137255 0.         0.         0.         0.\n",
      " 0.         0.         0.         0.         0.         0.\n",
      " 0.         0.         0.         0.         0.         0.\n",
      " 0.         0.         0.         0.         0.21176471 0.98431373\n",
      " 0.99607843 0.99607843 0.99607843 0.97254902 0.29019608 0.01960784\n",
      " 0.         0.         0.         0.         0.         0.\n",
      " 0.         0.         0.         0.         0.         0.\n",
      " 0.         0.         0.         0.         0.         0.\n",
      " 0.         0.         0.54901961 0.99607843 0.99607843 0.99607843\n",
      " 0.99607843 0.99607843 0.99607843 0.79215686 0.49019608 0.17647059\n",
      " 0.         0.         0.         0.         0.         0.\n",
      " 0.         0.         0.         0.         0.         0.\n",
      " 0.         0.         0.         0.         0.         0.\n",
      " 0.22745098 0.70980392 0.91764706 0.99607843 0.99607843 0.99607843\n",
      " 0.99607843 0.99607843 0.99607843 0.98823529 0.54901961 0.08627451\n",
      " 0.         0.         0.         0.         0.         0.\n",
      " 0.         0.         0.         0.         0.         0.\n",
      " 0.         0.         0.         0.         0.         0.\n",
      " 0.11764706 0.19607843 0.28627451 0.60784314 0.99215686 0.99607843\n",
      " 0.99607843 0.99607843 0.99607843 0.74901961 0.00784314 0.\n",
      " 0.         0.         0.         0.         0.         0.\n",
      " 0.         0.         0.         0.         0.         0.\n",
      " 0.         0.         0.         0.         0.         0.\n",
      " 0.         0.         0.35686275 0.78431373 0.99607843 0.99607843\n",
      " 0.99607843 0.99607843 0.4627451  0.         0.         0.\n",
      " 0.         0.         0.         0.         0.         0.\n",
      " 0.         0.         0.         0.         0.         0.\n",
      " 0.         0.         0.         0.         0.         0.\n",
      " 0.         0.01568627 0.75294118 0.99607843 0.99607843 0.99607843\n",
      " 0.60392157 0.         0.         0.         0.         0.\n",
      " 0.         0.         0.         0.         0.         0.\n",
      " 0.         0.         0.         0.         0.         0.\n",
      " 0.         0.         0.         0.         0.         0.\n",
      " 0.55294118 0.99607843 0.99607843 0.99607843 0.45490196 0.\n",
      " 0.         0.         0.         0.         0.         0.\n",
      " 0.         0.         0.         0.         0.         0.\n",
      " 0.09803922 0.49411765 0.3372549  0.         0.         0.\n",
      " 0.         0.         0.         0.01176471 0.7372549  0.99607843\n",
      " 0.99607843 0.98039216 0.23921569 0.         0.         0.\n",
      " 0.         0.         0.         0.         0.         0.\n",
      " 0.         0.         0.         0.09411765 0.81960784 0.99607843\n",
      " 0.05882353 0.         0.         0.         0.         0.\n",
      " 0.09019608 0.5372549  0.99607843 0.99607843 0.99607843 0.81960784\n",
      " 0.         0.         0.         0.         0.         0.\n",
      " 0.         0.         0.         0.         0.         0.\n",
      " 0.         0.65882353 0.99607843 0.99607843 0.18823529 0.03529412\n",
      " 0.         0.         0.03529412 0.49803922 0.94509804 0.99607843\n",
      " 0.99607843 1.         0.94901961 0.24705882 0.         0.\n",
      " 0.         0.         0.         0.         0.         0.\n",
      " 0.         0.         0.         0.         0.         0.39607843\n",
      " 0.99607843 0.99607843 0.99607843 0.80392157 0.74509804 0.74509804\n",
      " 0.80392157 0.99607843 0.99607843 0.99607843 0.99607843 0.94901961\n",
      " 0.2627451  0.         0.         0.         0.         0.\n",
      " 0.         0.         0.         0.         0.         0.\n",
      " 0.         0.         0.         0.12941176 0.65098039 0.99607843\n",
      " 0.99607843 0.99607843 0.99607843 0.99607843 0.99607843 0.99607843\n",
      " 0.99607843 0.98039216 0.54117647 0.21568627 0.         0.\n",
      " 0.         0.         0.         0.         0.         0.\n",
      " 0.         0.         0.         0.         0.         0.\n",
      " 0.         0.         0.02745098 0.34509804 0.60392157 0.45490196\n",
      " 0.76078431 0.76078431 0.60392157 0.60392157 0.34509804 0.19215686\n",
      " 0.         0.         0.         0.         0.         0.\n",
      " 0.         0.         0.         0.         0.         0.\n",
      " 0.         0.         0.         0.         0.         0.\n",
      " 0.         0.         0.         0.         0.         0.\n",
      " 0.         0.         0.         0.         0.         0.\n",
      " 0.         0.         0.         0.         0.         0.\n",
      " 0.         0.         0.         0.         0.         0.\n",
      " 0.         0.         0.         0.         0.         0.\n",
      " 0.         0.         0.         0.         0.         0.\n",
      " 0.         0.         0.         0.         0.         0.\n",
      " 0.         0.         0.         0.         0.         0.\n",
      " 0.         0.         0.         0.         0.         0.\n",
      " 0.         0.         0.         0.         0.         0.\n",
      " 0.         0.         0.         0.         0.         0.\n",
      " 0.         0.         0.         0.         0.         0.\n",
      " 0.         0.         0.         0.        ]\n"
     ]
    }
   ],
   "source": [
    "def readMnist(mnistPath) : \n",
    "    mnistData = mnist.MNIST(mnistPath) # Path of the four ubyte files.\n",
    "    trainData, trainLabels = mnistData.load_training()\n",
    "    testData, testLabels = mnistData.load_testing()\n",
    "    trainData = np.array(trainData)/255 # afin de diviser par des floatant toujours entre 0 et 1\n",
    "    trainLabels = np.array(trainLabels).reshape(len(trainLabels), 1)\n",
    "    testData = np.array(testData)/255\n",
    "    testLabels = np.array(testLabels).reshape(1, len(testLabels))\n",
    "    trainLabelsMatrix = np.zeros((trainLabels.size, 10))\n",
    "    for n in range(trainLabels.size):\n",
    "        trainLabelsMatrix[n, trainLabels[n]] = 1\n",
    "        \n",
    "    return trainData, trainLabelsMatrix, testData, testLabels\n",
    "\n",
    "trainData, trainLabels, testData, testLabels = readMnist(\"Data\\\\MNIST\")\n",
    "print(trainData[12, :])"
   ]
  },
  {
   "cell_type": "markdown",
   "metadata": {},
   "source": [
    "### 3 Fonction d’activation\n",
    "\n",
    "Afin que le réseau de neurones apprenne, il est nécessaire de définir une fonction d’activation.\n",
    "Dans notre cas, nous utiliserons la fonction sigmoïde, voir équation 1 ainsi que sa dérivée pour\n",
    "l’étape de back-propagation, voir équation 2. Où derivate vaut False si on souhaite calculer f(x) et True si on souhaite calculer f′(x)."
   ]
  },
  {
   "cell_type": "code",
   "execution_count": 10,
   "metadata": {},
   "outputs": [],
   "source": [
    "def sigmoid(x, derivate=False):\n",
    "    fx = 1/(1+ np.exp(-x))\n",
    "    if derivate:\n",
    "        return fx*(1 - fx)\n",
    "    return fx"
   ]
  },
  {
   "cell_type": "markdown",
   "metadata": {},
   "source": [
    "### 4 Apprentissage du réseau de neurones\n",
    "\n",
    "Dans cette partie, on souhaite définir le réseau de neurones et l’entraîner sur les données d’entraînement. Pour un meilleur apprentissage, nous utiliserons la technique du batch-processing.\n",
    "\n",
    "Notre réseau de neurones sera défini comme suit :\n",
    "\n",
    "• Nombre de neurones d’entrées : 3 pour WDBC - 28 ∗ 28 = 784 pour MNIST.\n",
    "\n",
    "• Nombre de couches cachées : 1.\n",
    "\n",
    "• Nombre de neurones dans le niveau caché : 20 pour WDBC - 30 pour MNIST.\n",
    "\n",
    "• Nombre de neurones de sorties : 1 pour WDBC - 10 pour MNIST.\n",
    "\n",
    "\n",
    "Afin de créer ce réseau, définissez la fonction suivante :"
   ]
  },
  {
   "cell_type": "code",
   "execution_count": 11,
   "metadata": {},
   "outputs": [],
   "source": [
    "def trainNeuralNetwork(input, output, hiddenLayerSize, batchSize, learningRate,numberOfIterations):\n",
    "    \"\"\" Train neural network\"\"\"\n",
    "    inputSize = input.shape[1]\n",
    "    outputSize = output.shape[1]\n",
    "    errors = np.zeros(numberOfIterations)\n",
    "    \n",
    "    # Initialisation des poids\n",
    "    weigths0 = np.random.rand(inputSize, hiddenLayerSize)/batchSize\n",
    "    weigths1 = np.random.rand(hiddenLayerSize, outputSize)/batchSize\n",
    "    \n",
    "    # Algorithme\n",
    "    for i in range(numberOfIterations):\n",
    "        # Calcul de la sortie de chaque couche \n",
    "        # Y l = f(qN i=1 WilXil)\n",
    "        layer0 = input\n",
    "        layer1 = sigmoid(layer0.dot(weigths0))\n",
    "        layer2 = sigmoid(layer1.dot(weigths1))\n",
    "        \n",
    "        \n",
    "        # Calcul de l’erreur d’apprentissage El\n",
    "        layer2Error = output - layer2\n",
    "        errors[i] = np.mean(np.sum(abs(layer2Error),1))\n",
    "        \n",
    "        # Rétropropagation de l’erreur par descente de gradient\n",
    "        layer2Delta = layer2Error*sigmoid(layer1.dot(weigths1),True)\n",
    "        layer1Error = layer2Delta.dot(weigths1.transpose())\n",
    "        layer1Delta = layer1Error*sigmoid(layer0.dot(weigths0),True)\n",
    "        \n",
    "        # Mise à jour des poids Wli\n",
    "        weigths0 += learningRate*layer0.transpose().dot(layer1Delta)\n",
    "        weigths1 += learningRate*layer1.transpose().dot(layer2Delta)\n",
    "    \n",
    "    return weigths0,weigths1,errors"
   ]
  },
  {
   "cell_type": "code",
   "execution_count": 12,
   "metadata": {},
   "outputs": [
    {
     "name": "stderr",
     "output_type": "stream",
     "text": [
      "C:\\Users\\Elisabeth\\AppData\\Local\\Temp\\ipykernel_2360\\1238430488.py:2: RuntimeWarning: overflow encountered in exp\n",
      "  fx = 1/(1+ np.exp(-x))\n"
     ]
    },
    {
     "data": {
      "text/plain": [
       "(array([[0.00829001, 0.00335082, 0.0062793 , ..., 0.00362094, 0.00376986,\n",
       "         0.01993916],\n",
       "        [0.0163058 , 0.01765335, 0.00792565, ..., 0.01844101, 0.00595729,\n",
       "         0.01339285],\n",
       "        [0.0114012 , 0.00415473, 0.01804638, ..., 0.01096212, 0.00405876,\n",
       "         0.01921655],\n",
       "        ...,\n",
       "        [0.01953891, 0.01691806, 0.01407447, ..., 0.01742836, 0.01449745,\n",
       "         0.01696711],\n",
       "        [0.01749593, 0.01357308, 0.0088447 , ..., 0.00885303, 0.01047079,\n",
       "         0.01602733],\n",
       "        [0.01388382, 0.01675935, 0.00564935, ..., 0.01375161, 0.00434355,\n",
       "         0.0162754 ]]),\n",
       " array([[-48189.41639224, -47925.39773891, -48275.98757912,\n",
       "         -48271.49800821, -48721.04099264, -49793.38698457,\n",
       "         -48934.0817977 , -48629.08598685, -48640.96085871,\n",
       "         -48790.60944458],\n",
       "        [-49077.06032568, -48642.86064414, -49189.85833659,\n",
       "         -49161.7551828 , -49594.74333124, -50601.54751763,\n",
       "         -49692.91220927, -49413.37141195, -49452.79890665,\n",
       "         -49629.0480101 ],\n",
       "        [-49131.50459304, -48623.56330305, -49214.98088072,\n",
       "         -49161.107248  , -49481.99456877, -50631.7515642 ,\n",
       "         -49773.37837833, -49442.9852636 , -49414.54381767,\n",
       "         -49516.58432309],\n",
       "        [-49056.85940505, -48911.43926548, -49253.88042567,\n",
       "         -49196.43787721, -49472.49279299, -50633.70595987,\n",
       "         -49783.06372784, -49375.4762473 , -49464.7782986 ,\n",
       "         -49505.51477823],\n",
       "        [-48613.76058372, -48369.71000694, -48712.15967713,\n",
       "         -48697.1649001 , -49102.32137872, -50186.68061465,\n",
       "         -49435.424247  , -49020.2003165 , -49030.90131575,\n",
       "         -49157.80934526],\n",
       "        [-49259.5320342 , -49091.63781244, -49491.56372119,\n",
       "         -49383.96900896, -49817.81352703, -50847.3353589 ,\n",
       "         -50004.54641991, -49785.42309886, -49694.78024793,\n",
       "         -49864.01195803],\n",
       "        [-49478.14946213, -49299.10877589, -49615.04506833,\n",
       "         -49542.31816533, -50017.71742409, -51053.20758059,\n",
       "         -50291.08455383, -49834.54949152, -49838.08638099,\n",
       "         -50093.50880313],\n",
       "        [-48099.94686112, -47835.48089936, -48279.81781646,\n",
       "         -48142.7641873 , -48735.27276915, -49655.0312128 ,\n",
       "         -48881.01942008, -48640.06861369, -48543.99287712,\n",
       "         -48761.51825842],\n",
       "        [-48649.85532583, -48463.4264359 , -48803.60405108,\n",
       "         -48873.24984454, -49206.11290139, -50226.40584249,\n",
       "         -49396.70409204, -49185.23105144, -49149.08455797,\n",
       "         -49278.17944783],\n",
       "        [-48273.58884804, -47928.27520274, -48389.98056765,\n",
       "         -48261.10950413, -48732.54559211, -49745.69581664,\n",
       "         -49037.4898779 , -48648.87757668, -48603.38275332,\n",
       "         -48714.59959823],\n",
       "        [-47883.61358151, -47509.24238553, -48050.6127593 ,\n",
       "         -47957.52381695, -48352.49891277, -49399.3680402 ,\n",
       "         -48620.45765056, -48412.38178956, -48289.62218809,\n",
       "         -48407.70553132],\n",
       "        [-49276.8314405 , -48813.36129766, -49261.17786117,\n",
       "         -49136.021412  , -49551.01995144, -50751.55550841,\n",
       "         -49871.03505874, -49531.2296632 , -49533.71700542,\n",
       "         -49591.44547959],\n",
       "        [-49646.77651467, -49276.78104531, -49763.1513298 ,\n",
       "         -49723.15799151, -50201.54903016, -51219.33534202,\n",
       "         -50413.13999831, -50037.98941953, -50044.92690366,\n",
       "         -50218.80703385],\n",
       "        [-48749.85270521, -48316.00303275, -48779.63407388,\n",
       "         -48703.05061794, -49199.40620341, -50235.09385859,\n",
       "         -49367.3669363 , -49074.45740223, -49117.44145233,\n",
       "         -49160.2609352 ],\n",
       "        [-48494.27748771, -48473.71353765, -48777.92802993,\n",
       "         -48648.31226947, -49150.29331747, -50153.1315928 ,\n",
       "         -49348.49669291, -49031.55044974, -49050.24193795,\n",
       "         -49219.46074951],\n",
       "        [-48899.27978009, -48690.35731084, -49020.9084563 ,\n",
       "         -49042.47835614, -49325.4220728 , -50386.04845505,\n",
       "         -49633.46837456, -49205.28817505, -49263.08792238,\n",
       "         -49407.68406898],\n",
       "        [-49045.76098136, -48760.95949881, -49167.02866362,\n",
       "         -49131.48539496, -49586.07386781, -50659.93736239,\n",
       "         -49872.05817358, -49426.40302247, -49496.8267678 ,\n",
       "         -49568.17543269],\n",
       "        [-48426.0763449 , -48137.65494006, -48571.5727802 ,\n",
       "         -48540.78821712, -48908.72953174, -49963.17338045,\n",
       "         -49122.73767334, -48795.34214935, -48801.65378948,\n",
       "         -48938.46383039],\n",
       "        [-48454.62029447, -48289.32709345, -48660.02036309,\n",
       "         -48555.54547504, -49009.18515803, -50027.17664687,\n",
       "         -49233.00890285, -48936.79895105, -48926.32002517,\n",
       "         -49045.63184422],\n",
       "        [-49042.73221247, -48902.05147311, -49178.97119533,\n",
       "         -49154.21740392, -49455.40586045, -50653.48002272,\n",
       "         -49797.58114626, -49276.88043755, -49424.75571458,\n",
       "         -49456.95154115],\n",
       "        [-48791.25727947, -48521.32537651, -48965.26841562,\n",
       "         -48824.02032505, -49324.12665745, -50336.6882887 ,\n",
       "         -49536.68612169, -49141.73830753, -49168.07376432,\n",
       "         -49301.069946  ],\n",
       "        [-49281.57151157, -48963.19193884, -49425.51961497,\n",
       "         -49460.65987853, -49882.51472362, -50861.61774999,\n",
       "         -50052.59924775, -49775.58576591, -49688.03964179,\n",
       "         -49916.27137075],\n",
       "        [-48780.81229502, -48429.20174103, -48969.28044113,\n",
       "         -48832.28142649, -49274.66669434, -50312.909865  ,\n",
       "         -49599.425156  , -49087.70885028, -49154.44696234,\n",
       "         -49287.60268544],\n",
       "        [-48691.9533485 , -48470.76158716, -48820.5332477 ,\n",
       "         -48714.8711487 , -49219.63953684, -50240.60616576,\n",
       "         -49451.20729999, -49118.6917196 , -49132.16082825,\n",
       "         -49230.85345561],\n",
       "        [-48927.81114261, -48626.34460576, -49071.31090466,\n",
       "         -49019.89077872, -49407.03307815, -50413.69588422,\n",
       "         -49579.99259438, -49299.77316294, -49295.64327439,\n",
       "         -49440.7559555 ],\n",
       "        [-49494.63059203, -49149.23946158, -49633.74163535,\n",
       "         -49530.4297641 , -50025.57586914, -51026.31829674,\n",
       "         -50177.01146498, -49927.82771118, -49841.00630875,\n",
       "         -50040.41468332],\n",
       "        [-49119.57996504, -48908.45521204, -49335.5778774 ,\n",
       "         -49276.36233632, -49619.55245581, -50706.3508019 ,\n",
       "         -49862.3014507 , -49485.11338907, -49595.80974802,\n",
       "         -49661.41783014],\n",
       "        [-48138.20562615, -47989.95127831, -48311.79833146,\n",
       "         -48354.72947779, -48634.59923475, -49727.74742239,\n",
       "         -48898.65963712, -48573.9279442 , -48595.52397723,\n",
       "         -48735.23097896],\n",
       "        [-49051.58979845, -48588.83575915, -49101.57929709,\n",
       "         -49035.35147094, -49424.75765748, -50504.73734697,\n",
       "         -49656.93899376, -49247.26848122, -49391.47363596,\n",
       "         -49458.86010753],\n",
       "        [-48339.62508927, -48052.74921067, -48349.79309349,\n",
       "         -48457.27083854, -48704.98081832, -49911.02212027,\n",
       "         -48986.08874846, -48566.62639434, -48691.97206622,\n",
       "         -48733.15802457]]),\n",
       " array([5.44056982, 5.        , 5.        , 5.        , 5.        ]))"
      ]
     },
     "execution_count": 12,
     "metadata": {},
     "output_type": "execute_result"
    }
   ],
   "source": [
    "trainData, trainLabels, testData, testLabels = readMnist(\"Data\\\\MNIST\")\n",
    "trainNeuralNetwork(trainData, trainLabels, 30 ,50 , 10,5)"
   ]
  },
  {
   "cell_type": "markdown",
   "metadata": {},
   "source": [
    "=> overflow ormal car fonction d'apprentissage pas fonctionnel (outofnumber)"
   ]
  },
  {
   "cell_type": "code",
   "execution_count": 13,
   "metadata": {},
   "outputs": [],
   "source": [
    "def trainNeuralNetwork(input, output, hiddenLayerSize, batchSize, learningRate,numberOfIterations):\n",
    "    \"\"\" Train neural network\"\"\"\n",
    "    inputSize = input.shape[1]\n",
    "    outputSize = output.shape[1]\n",
    "    errors = np.zeros(numberOfIterations)\n",
    "    \n",
    "    # Initialisation des poids\n",
    "    weigths0 = np.random.rand(inputSize, hiddenLayerSize)/inputSize\n",
    "    weigths1 = np.random.rand(hiddenLayerSize, outputSize)/hiddenLayerSize\n",
    "    \n",
    "    # Algorithme\n",
    "    for i in range(numberOfIterations):\n",
    "        n = np.random.randint(0,input.shape[0] - batchSize +1)\n",
    "        # Calcul de la sortie de chaque couche \n",
    "        # Y l = f(qN i=1 WilXil)\n",
    "        layer0 = input[n:n + batchSize, :]\n",
    "        layer1 = sigmoid(layer0.dot(weigths0))\n",
    "        layer2 = sigmoid(layer1.dot(weigths1))\n",
    "        \n",
    "        \n",
    "        # Calcul de l’erreur d’apprentissage El\n",
    "        layer2Error = output[n:n + batchSize, :] - layer2\n",
    "        errors[i] = np.mean(np.sum(abs(layer2Error),1))\n",
    "        \n",
    "        # Rétropropagation de l’erreur par descente de gradient\n",
    "        layer2Delta = layer2Error*sigmoid(layer1.dot(weigths1),True)\n",
    "        layer1Error = layer2Delta.dot(weigths1.transpose())\n",
    "        layer1Delta = layer1Error*sigmoid(layer0.dot(weigths0),True)\n",
    "        \n",
    "        # Mise à jour des poids Wli\n",
    "        weigths0 += learningRate*layer0.transpose().dot(layer1Delta)/batchSize\n",
    "        weigths1 += learningRate*layer1.transpose().dot(layer2Delta)/batchSize\n",
    "    \n",
    "    return weigths0,weigths1,errors"
   ]
  },
  {
   "cell_type": "code",
   "execution_count": 14,
   "metadata": {},
   "outputs": [
    {
     "data": {
      "image/png": "[encoded data removed]",
      "text/plain": [
       "<Figure size 640x480 with 1 Axes>"
      ]
     },
     "metadata": {},
     "output_type": "display_data"
    }
   ],
   "source": [
    "trainData, trainLabels, testData, testLabels = readMnist(\"Data\\\\MNIST\")\n",
    "weigths0,weigths1,errors = trainNeuralNetwork(trainData, trainLabels, 30 ,50 , 10,5)\n",
    "plt.plot(errors)\n",
    "plt.show()"
   ]
  },
  {
   "cell_type": "markdown",
   "metadata": {},
   "source": [
    "=> plus d'overflow"
   ]
  },
  {
   "cell_type": "code",
   "execution_count": 15,
   "metadata": {},
   "outputs": [],
   "source": [
    "def applyNeuralNetWork(input, weigths0, weigths1):\n",
    "    \"\"\"Apply neurol network\"\"\"\n",
    "    layer0 = input\n",
    "    layer1 = sigmoid(layer0.dot(weigths0))\n",
    "    layer2 = sigmoid(layer1.dot(weigths1))\n",
    "    return layer2"
   ]
  },
  {
   "cell_type": "code",
   "execution_count": 25,
   "metadata": {},
   "outputs": [
    {
     "name": "stdout",
     "output_type": "stream",
     "text": [
      "95.17\n"
     ]
    }
   ],
   "source": [
    "trainData, trainLabels, testData, testLabels = readMnist(\"Data\\\\MNIST\")\n",
    "weigths0,weigths1,errors = trainNeuralNetwork(trainData, trainLabels, 30 ,50 , 10,15000)\n",
    "# plt.plot(errors)\n",
    "testLabelsPredicted = applyNeuralNetWork(testData, weigths0, weigths1)\n",
    "# plt.show()\n",
    "testLabelsPredicted = np.argmax(testLabelsPredicted, 1)\n",
    "print(100*np.mean(testLabelsPredicted == testLabels))"
   ]
  },
  {
   "cell_type": "markdown",
   "metadata": {},
   "source": [
    "Il faut rajouter des valeurs afin d'avoir un résultat cohérent"
   ]
  },
  {
   "cell_type": "code",
   "execution_count": null,
   "metadata": {},
   "outputs": [],
   "source": []
  }
 ],
 "metadata": {
  "kernelspec": {
   "display_name": "enseignement_env",
   "language": "python",
   "name": "python3"
  },
  "language_info": {
   "codemirror_mode": {
    "name": "ipython",
    "version": 3
   },
   "file_extension": ".py",
   "mimetype": "text/x-python",
   "name": "python",
   "nbconvert_exporter": "python",
   "pygments_lexer": "ipython3",
   "version": "3.12.1"
  }
 },
 "nbformat": 4,
 "nbformat_minor": 2
}
